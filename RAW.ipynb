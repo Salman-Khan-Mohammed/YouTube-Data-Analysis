{
 "cells": [
  {
   "cell_type": "markdown",
   "id": "103f24a8-d420-40a1-b58d-7473cc947af5",
   "metadata": {},
   "source": [
    "# Sentiment Analysis "
   ]
  },
  {
   "cell_type": "markdown",
   "id": "50a12e66-68aa-4f9a-976b-c54c84878677",
   "metadata": {},
   "source": [
    "# This is on 5K data"
   ]
  },
  {
   "cell_type": "code",
   "execution_count": 1,
   "id": "6e50b8cf-ccac-4724-94e7-2efea1732127",
   "metadata": {},
   "outputs": [],
   "source": [
    "import pandas as pd"
   ]
  },
  {
   "cell_type": "code",
   "execution_count": 2,
   "id": "ae8a9451-5fef-4813-8364-69426e4df1e5",
   "metadata": {},
   "outputs": [],
   "source": [
    "# Read CSV file\n",
    "df = pd.read_csv(\"/Users/salmanmohamm3d/Downloads/video_data_results.csv\")"
   ]
  },
  {
   "cell_type": "code",
   "execution_count": 3,
   "id": "72df160a-e20b-4e2f-853f-e2325cbb47a3",
   "metadata": {},
   "outputs": [
    {
     "name": "stdout",
     "output_type": "stream",
     "text": [
      "Filtered data saved to updated_file.csv\n"
     ]
    }
   ],
   "source": [
    "# Remove rows where the \"title\" column is empty\n",
    "df_filtered = df.dropna(subset=['title'])\n",
    "\n",
    "# Save the filtered DataFrame to a new CSV file\n",
    "df_filtered.to_csv(\"/Users/salmanmohamm3d/Downloads/updated_file.csv\", index=False)\n",
    "\n",
    "print(\"Filtered data saved to updated_file.csv\")\n"
   ]
  },
  {
   "cell_type": "code",
   "execution_count": 18,
   "id": "49b3d645-8e63-4067-866f-4ae7947bc94a",
   "metadata": {},
   "outputs": [
    {
     "name": "stdout",
     "output_type": "stream",
     "text": [
      "<class 'pandas.core.frame.DataFrame'>\n",
      "RangeIndex: 3874 entries, 0 to 3873\n",
      "Data columns (total 9 columns):\n",
      " #   Column          Non-Null Count  Dtype  \n",
      "---  ------          --------------  -----  \n",
      " 0   video_id        3874 non-null   object \n",
      " 1   title           3874 non-null   object \n",
      " 2   description     3785 non-null   object \n",
      " 3   view_count      3874 non-null   float64\n",
      " 4   like_count      3874 non-null   float64\n",
      " 5   dislike_count   3874 non-null   float64\n",
      " 6   comment_count   3874 non-null   float64\n",
      " 7   duration        3874 non-null   object \n",
      " 8   favorite_count  3874 non-null   float64\n",
      "dtypes: float64(5), object(4)\n",
      "memory usage: 272.5+ KB\n",
      "Top 10 videos based on total views:\n",
      "                                                  title  view_count\n",
      "1398                              HIGH ART - trailer PL  19685025.0\n",
      "2764                A time for us Romeo and Juliet 1968  17146514.0\n",
      "1563    Walt Disney Animation Studios' Steamboat Willie  14422667.0\n",
      "1281                    Titanic - Official Trailer (HD)  13943902.0\n",
      "2242  RoboCop 2 (3/11) Movie CLIP - Robo Flops (1990...  12854991.0\n",
      "2964                        Requiem for a Dream Trailer   8215082.0\n",
      "1357      Carne Trémula (Live Flesh) - Official Trailer   7460296.0\n",
      "285                              Forrest Gump - Trailer   7255479.0\n",
      "2253               Princess Mononoke - Official Trailer   7254742.0\n",
      "236        Pulp Fiction Official Trailer #1 - (1994) HD   7120873.0\n",
      "\n",
      "Bottom 10 videos based on total views:\n",
      "                                             title  view_count\n",
      "203                           Just Cause - Trailer         0.0\n",
      "1892  Children Of The Corn II: The Final Sacrifice         0.0\n",
      "1313                                   Little City         0.0\n",
      "2652                            Me Myself I (2000)         0.0\n",
      "2941                              Beautiful (2000)         0.0\n",
      "198                                     Houseguest         0.0\n",
      "2921                   The Ballad of Ramblin' Jack         0.0\n",
      "2636                             Max Dugan Returns         0.0\n",
      "3561                             Maniac! - Trailer         0.0\n",
      "3458                    Innocent Man, An - Trailer         0.0\n",
      "\n",
      "Most liked video:\n",
      "Title: Walt Disney Animation Studios' Steamboat Willie\n",
      "Like Count: 130910.0\n",
      "\n",
      "Least liked video:\n",
      "Title: Waiting To Exhale\n",
      "Like Count: 0.0\n",
      "\n",
      "Video with the highest duration:\n",
      "Title: Corelli's Mandolin Italian Trailer\n",
      "Duration: PT9M7S\n"
     ]
    }
   ],
   "source": [
    "# Read CSV file\n",
    "\n",
    "df = pd.read_csv(\"/Users/salmanmohamm3d/Downloads/updated_file.csv\")\n",
    "df.info()\n",
    "\n",
    "\n",
    "# 1. A list of the top-10 videos based on the total views\n",
    "top_10_views = df.sort_values(by='view_count', ascending=False).head(10)\n",
    "print(\"Top 10 videos based on total views:\")\n",
    "print(top_10_views[['title', 'view_count']])\n",
    "\n",
    "# 2. A list of the bottom-10 videos based on the total views\n",
    "bottom_10_views = df.sort_values(by='view_count', ascending=True).head(10)\n",
    "print(\"\\nBottom 10 videos based on total views:\")\n",
    "print(bottom_10_views[['title', 'view_count']])\n",
    "\n",
    "# 3. The most liked video\n",
    "most_liked = df.loc[df['like_count'].idxmax()]\n",
    "print(f\"\\nMost liked video:\\nTitle: {most_liked['title']}\\nLike Count: {most_liked['like_count']}\")\n",
    "\n",
    "# 4. The least liked video\n",
    "least_liked = df.loc[df['like_count'].idxmin()]\n",
    "print(f\"\\nLeast liked video:\\nTitle: {least_liked['title']}\\nLike Count: {least_liked['like_count']}\")\n",
    "\n",
    "# 5. The video with the highest duration\n",
    "highest_duration = df.loc[df['duration'].idxmax()]\n",
    "print(f\"\\nVideo with the highest duration:\\nTitle: {highest_duration['title']}\\nDuration: {highest_duration['duration']}\")"
   ]
  },
  {
   "cell_type": "code",
   "execution_count": null,
   "id": "62e92d6b-8d24-4592-8153-42c92ef7c030",
   "metadata": {},
   "outputs": [],
   "source": []
  },
  {
   "cell_type": "code",
   "execution_count": null,
   "id": "edd62ce5-4fb9-467d-a2a5-c9662f2e5a55",
   "metadata": {},
   "outputs": [],
   "source": []
  },
  {
   "cell_type": "markdown",
   "id": "ae6df5d3-10d0-445e-a3f7-452a7437dd61",
   "metadata": {},
   "source": [
    "# Doing everything back on 10K data"
   ]
  },
  {
   "cell_type": "code",
   "execution_count": 16,
   "id": "bd7132a6-fb64-4504-a713-f15011578c5a",
   "metadata": {},
   "outputs": [
    {
     "name": "stdout",
     "output_type": "stream",
     "text": [
      "<class 'pandas.core.frame.DataFrame'>\n",
      "RangeIndex: 10000 entries, 0 to 9999\n",
      "Data columns (total 9 columns):\n",
      " #   Column          Non-Null Count  Dtype  \n",
      "---  ------          --------------  -----  \n",
      " 0   video_id        10000 non-null  object \n",
      " 1   title           7457 non-null   object \n",
      " 2   description     7284 non-null   object \n",
      " 3   view_count      7457 non-null   float64\n",
      " 4   like_count      7457 non-null   float64\n",
      " 5   dislike_count   7457 non-null   float64\n",
      " 6   comment_count   7457 non-null   float64\n",
      " 7   duration        7457 non-null   object \n",
      " 8   favorite_count  7457 non-null   float64\n",
      "dtypes: float64(5), object(4)\n",
      "memory usage: 703.3+ KB\n"
     ]
    }
   ],
   "source": [
    "# Read CSV file\n",
    "df = pd.read_csv(\"/Users/salmanmohamm3d/Desktop/Social M A/video_data_results_10k.csv\")\n",
    "df.info()"
   ]
  },
  {
   "cell_type": "code",
   "execution_count": 14,
   "id": "510d6d71-95fd-4955-9677-27cc47c0c49a",
   "metadata": {},
   "outputs": [
    {
     "name": "stdout",
     "output_type": "stream",
     "text": [
      "Filtered data saved to updated_file.csv\n"
     ]
    }
   ],
   "source": [
    "# Remove rows where the \"title\" column is empty\n",
    "df_filtered = df.dropna(subset=['title'])\n",
    "\n",
    "# Save the filtered DataFrame to a new CSV file\n",
    "df_filtered.to_csv(\"/Users/salmanmohamm3d/Desktop/Social M A/updated_10Kdata_file.csv\", index=False)\n",
    "\n",
    "print(\"Filtered data saved to updated_file.csv\")"
   ]
  },
  {
   "cell_type": "code",
   "execution_count": 17,
   "id": "aecd433f-8b2f-46c4-ba21-4ce392b8efe4",
   "metadata": {},
   "outputs": [
    {
     "name": "stdout",
     "output_type": "stream",
     "text": [
      "<class 'pandas.core.frame.DataFrame'>\n",
      "RangeIndex: 7457 entries, 0 to 7456\n",
      "Data columns (total 9 columns):\n",
      " #   Column          Non-Null Count  Dtype  \n",
      "---  ------          --------------  -----  \n",
      " 0   video_id        7457 non-null   object \n",
      " 1   title           7457 non-null   object \n",
      " 2   description     7284 non-null   object \n",
      " 3   view_count      7457 non-null   float64\n",
      " 4   like_count      7457 non-null   float64\n",
      " 5   dislike_count   7457 non-null   float64\n",
      " 6   comment_count   7457 non-null   float64\n",
      " 7   duration        7457 non-null   object \n",
      " 8   favorite_count  7457 non-null   float64\n",
      "dtypes: float64(5), object(4)\n",
      "memory usage: 524.4+ KB\n",
      "Top 10 videos based on total views:\n",
      "                                                  title   view_count\n",
      "3976  Unfaithful (2002) - The Other Woman Scene (1/3...  126723941.0\n",
      "4582    Eric Rohmer - Pauline à la plage (1983) Trailer   37883280.0\n",
      "1398                              HIGH ART - trailer PL   19685025.0\n",
      "2764                A time for us Romeo and Juliet 1968   17146558.0\n",
      "1563    Walt Disney Animation Studios' Steamboat Willie   14422744.0\n",
      "1281                    Titanic - Official Trailer (HD)   13943899.0\n",
      "6115          The SpongeBob SquarePants Movie - Trailer   13554527.0\n",
      "4044  Like Mike (2002) Official Trailer # 1 -Bow Wow HD   13419619.0\n",
      "4667                            Finding Nemo 3D Trailer   13417387.0\n",
      "2242  RoboCop 2 (3/11) Movie CLIP - Robo Flops (1990...   12855014.0\n",
      "\n",
      "Bottom 10 videos based on total views:\n",
      "                                              title  view_count\n",
      "6342                            Behold A Pale Horse         0.0\n",
      "5577                Ballad of Cable Hogue - Trailer         0.0\n",
      "1892   Children Of The Corn II: The Final Sacrifice         0.0\n",
      "5602                 The Night of the Iguana (1964)         0.0\n",
      "6136           The Wackiest Ship In The Army (1961)         0.0\n",
      "4925                             See No Evil (1971)         0.0\n",
      "3458                     Innocent Man, An - Trailer         0.0\n",
      "4876  Incident At Oglala: The Leonard Peltier Story         0.0\n",
      "3561                              Maniac! - Trailer         0.0\n",
      "6908                              Yes Man - Trailer         0.0\n",
      "\n",
      "Most liked video:\n",
      "Title: Star Wars Episode III: Revenge of the Sith - Trailer\n",
      "Like Count: 142393.0\n",
      "\n",
      "Least liked video:\n",
      "Title: Waiting To Exhale\n",
      "Like Count: 0.0\n",
      "\n",
      "Video with the highest duration:\n",
      "Title: Corelli's Mandolin Italian Trailer\n",
      "Duration: PT9M7S\n"
     ]
    }
   ],
   "source": [
    "# Read CSV file\n",
    "\n",
    "df = pd.read_csv(\"/Users/salmanmohamm3d/Desktop/Social M A/updated_10Kdata_file.csv\")\n",
    "df.info()\n",
    "\n",
    "# 1. A list of the top-10 videos based on the total views\n",
    "top_10_views = df.sort_values(by='view_count', ascending=False).head(10)\n",
    "print(\"Top 10 videos based on total views:\")\n",
    "print(top_10_views[['title', 'view_count']])\n",
    "\n",
    "# 2. A list of the bottom-10 videos based on the total views\n",
    "bottom_10_views = df.sort_values(by='view_count', ascending=True).head(10)\n",
    "print(\"\\nBottom 10 videos based on total views:\")\n",
    "print(bottom_10_views[['title', 'view_count']])\n",
    "\n",
    "# 3. The most liked video\n",
    "most_liked = df.loc[df['like_count'].idxmax()]\n",
    "print(f\"\\nMost liked video:\\nTitle: {most_liked['title']}\\nLike Count: {most_liked['like_count']}\")\n",
    "\n",
    "# 4. The least liked video\n",
    "least_liked = df.loc[df['like_count'].idxmin()]\n",
    "print(f\"\\nLeast liked video:\\nTitle: {least_liked['title']}\\nLike Count: {least_liked['like_count']}\")\n",
    "\n",
    "# 5. The video with the highest duration\n",
    "highest_duration = df.loc[df['duration'].idxmax()]\n",
    "print(f\"\\nVideo with the highest duration:\\nTitle: {highest_duration['title']}\\nDuration: {highest_duration['duration']}\")"
   ]
  },
  {
   "cell_type": "code",
   "execution_count": 39,
   "id": "19025f04-2fe2-4724-95f5-304e92ae6c2c",
   "metadata": {},
   "outputs": [
    {
     "name": "stdout",
     "output_type": "stream",
     "text": [
      "\n",
      "Least liked videos excluding zero :\n",
      "                                                   title  like_count\n",
      "628                                          Echte Kerle         1.0\n",
      "15719  Jimi - All is By My Side trailer - out at Curz...         1.0\n",
      "17059                     Lili's Apron 1  gregory dayton         1.0\n",
      "13948                           I Give It A Year Trailer         1.0\n",
      "16397                            Alias the Doctor (1932)         1.0\n",
      "15971                             So Much So Fast (2006)         1.0\n",
      "16211  'Love Is Strange' Premiere At Sundance | genCo...         1.0\n",
      "16381                              Crisis (1950) Trailer         1.0\n",
      "14816                 Clandestine Childhood Trailer [HD]         1.0\n",
      "17886  Elinor Murphy (The Long Afternoon live @ Chron...         1.0\n"
     ]
    }
   ],
   "source": [
    "# The least liked videos (excluding those with 0 likes)\n",
    "least_liked_videos = df[df['like_count'] > 0].sort_values(by='like_count', ascending=True).head(10)\n",
    "print(\"\\nLeast liked videos excluding zero :\")\n",
    "print(least_liked_videos[['title', 'like_count']])"
   ]
  },
  {
   "cell_type": "code",
   "execution_count": null,
   "id": "efc4616e-c80b-45f7-80be-9ea872e681b4",
   "metadata": {},
   "outputs": [],
   "source": []
  },
  {
   "cell_type": "code",
   "execution_count": null,
   "id": "702ccd03-dee3-4c13-b119-ba8a9c351c20",
   "metadata": {},
   "outputs": [],
   "source": []
  },
  {
   "cell_type": "markdown",
   "id": "8cc68501-5c93-4ad6-8b3f-46ad464b57f6",
   "metadata": {},
   "source": [
    "## Doing everything back on Tasneem's data"
   ]
  },
  {
   "cell_type": "code",
   "execution_count": 42,
   "id": "bfa39acf-a042-4e6a-8c40-19097961b129",
   "metadata": {},
   "outputs": [],
   "source": [
    "# Read CSV file\n",
    "df = pd.read_csv(\"/Users/salmanmohamm3d/Desktop/Social M A/youtube_data _20K.csv\")"
   ]
  },
  {
   "cell_type": "markdown",
   "id": "897df85d-8bcc-48e9-809a-4d6079426a4f",
   "metadata": {},
   "source": [
    "## Data Cleaning"
   ]
  },
  {
   "cell_type": "code",
   "execution_count": 43,
   "id": "ee844f56-e6cc-48c2-b2c3-77595ba0f494",
   "metadata": {},
   "outputs": [
    {
     "name": "stdout",
     "output_type": "stream",
     "text": [
      "Filtered data saved to Tasneem_youtube_data _20K.csv\n"
     ]
    }
   ],
   "source": [
    "# Remove rows where the \"title\" column is empty\n",
    "df_filtered = df.dropna(subset=['title'])\n",
    "\n",
    "# Save the filtered DataFrame to a new CSV file\n",
    "df_filtered.to_csv(\"/Users/salmanmohamm3d/Desktop/Social M A/Tasneem_youtube_data _20K.csv\", index=False)\n",
    "\n",
    "print(\"Filtered data saved to Tasneem_youtube_data _20K.csv\")"
   ]
  },
  {
   "cell_type": "code",
   "execution_count": null,
   "id": "7f12923f-8f23-4e54-96a7-b8ae71d45a37",
   "metadata": {},
   "outputs": [],
   "source": []
  },
  {
   "cell_type": "code",
   "execution_count": null,
   "id": "6d875543-837a-4ea6-b78c-9a44ddc817d3",
   "metadata": {},
   "outputs": [],
   "source": []
  },
  {
   "cell_type": "code",
   "execution_count": 44,
   "id": "2d181bc4-92a5-44f2-8d49-5c1bac016e5c",
   "metadata": {},
   "outputs": [
    {
     "name": "stdout",
     "output_type": "stream",
     "text": [
      "<class 'pandas.core.frame.DataFrame'>\n",
      "RangeIndex: 18058 entries, 0 to 18057\n",
      "Data columns (total 9 columns):\n",
      " #   Column          Non-Null Count  Dtype  \n",
      "---  ------          --------------  -----  \n",
      " 0   video_id        18058 non-null  object \n",
      " 1   title           18058 non-null  object \n",
      " 2   description     17593 non-null  object \n",
      " 3   view_count      18058 non-null  float64\n",
      " 4   like_count      18058 non-null  float64\n",
      " 5   dislike_count   18058 non-null  float64\n",
      " 6   comment_count   18058 non-null  float64\n",
      " 7   duration        18058 non-null  object \n",
      " 8   favorite_count  18058 non-null  float64\n",
      "dtypes: float64(5), object(4)\n",
      "memory usage: 1.2+ MB\n",
      "Top 10 videos based on total views:\n",
      "                                                   title    view_count\n",
      "15616           John Legend - All of Me (Official Video)  2.377516e+09\n",
      "17014     Fresh Guacamole by PES | Oscar Nominated Short  4.768684e+08\n",
      "17446                            Beastie Boys - Sabotage  1.300697e+08\n",
      "3976   Unfaithful (2002) - The Other Woman Scene (1/3...  1.267239e+08\n",
      "14438     Britney Spears - Ooh La La (From The Smurfs 2)  1.244878e+08\n",
      "16188                     ILO ILO 爸媽不在家 Official Trailer  9.149941e+07\n",
      "10622                                     Growth Trailer  7.177077e+07\n",
      "12002  Transformers 3 Dark of the Moon Teaser Trailer...  5.311235e+07\n",
      "17937                      Disney's Frozen Fever Trailer  5.123053e+07\n",
      "15733  The Fault In Our Stars | Official Trailer [HD]...  4.848365e+07\n",
      "\n",
      "Bottom 10 videos based on total views:\n",
      "                                                title  view_count\n",
      "14588                              Badman's Territory         0.0\n",
      "11457                'Rabbit Hole' - Official Trailer         0.0\n",
      "9293                Sukiyaki Western Django - Trailer         0.0\n",
      "13483                          Something's Gonna Live         0.0\n",
      "5577                  Ballad of Cable Hogue - Trailer         0.0\n",
      "13499                  The Caine Mutiny Court-Martial         0.0\n",
      "11000                           The Desperados (1969)         0.0\n",
      "12396                        The Harvest (La Cosecha)         0.0\n",
      "16902  Twelve Years a Slave Solomon Northup's Odyssey         0.0\n",
      "17447                                Dolls and Angels         0.0\n",
      "\n",
      "Most liked video:\n",
      "Title: John Legend - All of Me (Official Video)\n",
      "Like Count: 13146308.0\n",
      "\n",
      "Least liked video:\n",
      "Title: Waiting To Exhale\n",
      "Like Count: 0.0\n",
      "\n",
      "Least liked videos excluding zero :\n",
      "                                                   title  like_count\n",
      "628                                          Echte Kerle         1.0\n",
      "15719  Jimi - All is By My Side trailer - out at Curz...         1.0\n",
      "17059                     Lili's Apron 1  gregory dayton         1.0\n",
      "13948                           I Give It A Year Trailer         1.0\n",
      "16397                            Alias the Doctor (1932)         1.0\n",
      "15971                             So Much So Fast (2006)         1.0\n",
      "16211  'Love Is Strange' Premiere At Sundance | genCo...         1.0\n",
      "16381                              Crisis (1950) Trailer         1.0\n",
      "14816                 Clandestine Childhood Trailer [HD]         1.0\n",
      "17886  Elinor Murphy (The Long Afternoon live @ Chron...         1.0\n",
      "\n",
      "Video with the highest duration:\n",
      "Title: Pipilotti Rist- (Entlastungen) Pipilottis Fehler\n",
      "Duration: PT9M9S\n"
     ]
    }
   ],
   "source": [
    "# Read CSV file\n",
    "\n",
    "df = pd.read_csv(\"/Users/salmanmohamm3d/Desktop/Social M A/Tasneem_youtube_data _20K.csv\")\n",
    "df.info()\n",
    "\n",
    "# 1. A list of the top-10 videos based on the total views\n",
    "top_10_views = df.sort_values(by='view_count', ascending=False).head(10)\n",
    "print(\"Top 10 videos based on total views:\")\n",
    "print(top_10_views[['title', 'view_count']])\n",
    "\n",
    "# 2. A list of the bottom-10 videos based on the total views\n",
    "bottom_10_views = df.sort_values(by='view_count', ascending=True).head(10)\n",
    "print(\"\\nBottom 10 videos based on total views:\")\n",
    "print(bottom_10_views[['title', 'view_count']])\n",
    "\n",
    "# 3. The most liked video\n",
    "most_liked = df.loc[df['like_count'].idxmax()]\n",
    "print(f\"\\nMost liked video:\\nTitle: {most_liked['title']}\\nLike Count: {most_liked['like_count']}\")\n",
    "\n",
    "# 4. The least liked video\n",
    "least_liked = df.loc[df['like_count'].idxmin()]\n",
    "print(f\"\\nLeast liked video:\\nTitle: {least_liked['title']}\\nLike Count: {least_liked['like_count']}\")\n",
    "\n",
    "# 4.1The least liked videos (excluding those with 0 likes)\n",
    "least_liked_videos = df[df['like_count'] > 0].sort_values(by='like_count', ascending=True).head(10)\n",
    "print(\"\\nLeast liked videos excluding zero :\")\n",
    "print(least_liked_videos[['title', 'like_count']])\n",
    "\n",
    "# 5. The video with the highest duration\n",
    "highest_duration = df.loc[df['duration'].idxmax()]\n",
    "print(f\"\\nVideo with the highest duration:\\nTitle: {highest_duration['title']}\\nDuration: {highest_duration['duration']}\")"
   ]
  },
  {
   "cell_type": "markdown",
   "id": "63e5d8db-7109-479a-aa65-88581759277e",
   "metadata": {},
   "source": [
    "# Visualization"
   ]
  },
  {
   "cell_type": "markdown",
   "id": "c023bba6-6c2d-4ab2-9e96-4302975f31e8",
   "metadata": {},
   "source": [
    "#### hese warnings indicate that certain Unicode characters (CJK Unified Ideographs) are missing from the current font used in the plots. To remove these warnings, you can configure Matplotlib to use a font that includes these characters, such as a Unicode font like DejaVu Sans."
   ]
  },
  {
   "cell_type": "code",
   "execution_count": 35,
   "id": "f56f05e6-0eb6-4398-8067-8cbcd009be1d",
   "metadata": {},
   "outputs": [
    {
     "data": {
      "image/png": "[encoded data removed]",
      "text/plain": [
       "<Figure size 1000x600 with 1 Axes>"
      ]
     },
     "metadata": {},
     "output_type": "display_data"
    },
    {
     "data": {
      "image/png": "[encoded data removed]",
      "text/plain": [
       "<Figure size 1000x600 with 1 Axes>"
      ]
     },
     "metadata": {},
     "output_type": "display_data"
    },
    {
     "name": "stdout",
     "output_type": "stream",
     "text": [
      "\n",
      "Title of the video that has the most likes: John Legend - All of Me (Official Video) with the like count of 13146308.0\n",
      "\n",
      "Title of the video that has the least likes: Waiting To Exhale with the like count of 0.0\n",
      "\n",
      "Title of the video that has the highest duration: Pipilotti Rist- (Entlastungen) Pipilottis Fehler with duration of PT9M9S \n"
     ]
    }
   ],
   "source": [
    "from matplotlib import rcParams\n",
    "\n",
    "# Configure Matplotlib to use DejaVu Sans font\n",
    "rcParams['font.sans-serif'] = ['DejaVu Sans']\n",
    "rcParams['axes.unicode_minus'] = False\n",
    "\n",
    "\n",
    "# c. Using a bar diagram, show the top-10 videos based on total views\n",
    "plt.figure(figsize=(10, 6))\n",
    "plt.bar(top_10_views['title'], top_10_views['view_count'], color='blue')\n",
    "plt.xlabel('Video Title')\n",
    "plt.ylabel('View Count')\n",
    "plt.title('Top 10 Videos Based on Total Views')\n",
    "plt.xticks(rotation=90)\n",
    "plt.show()\n",
    "\n",
    "# d. Using a bar diagram, show the bottom-10 videos based on total views\n",
    "plt.figure(figsize=(10, 6))\n",
    "plt.bar(bottom_10_views['title'], bottom_10_views['view_count'], color='red')\n",
    "plt.xlabel('Video Title')\n",
    "plt.ylabel('View Count')\n",
    "plt.title('Bottom 10 Videos Based on Total Views')\n",
    "plt.xticks(rotation=90)\n",
    "plt.show()\n",
    "\n",
    "# e. The title of the video that has the most likes\n",
    "most_liked_title = most_liked['title']\n",
    "print(f\"\\nTitle of the video that has the most likes: {most_liked_title} with the like count of {most_liked['like_count']}\")\n",
    "\n",
    "# f. The title of the video that has the least likes\n",
    "least_liked_title = least_liked['title']\n",
    "print(f\"\\nTitle of the video that has the least likes: {least_liked_title} with the like count of {least_liked['like_count']}\")\n",
    "\n",
    "# g. The title of the video that has the highest duration\n",
    "highest_duration_title = highest_duration['title']\n",
    "print(f\"\\nTitle of the video that has the highest duration: {highest_duration_title} with duration of {highest_duration['duration']} \")"
   ]
  },
  {
   "cell_type": "code",
   "execution_count": 36,
   "id": "1b2210d3-5c94-4533-8e72-cd6dc81d45f3",
   "metadata": {},
   "outputs": [
    {
     "data": {
      "text/html": [
       "<div>\n",
       "<style scoped>\n",
       "    .dataframe tbody tr th:only-of-type {\n",
       "        vertical-align: middle;\n",
       "    }\n",
       "\n",
       "    .dataframe tbody tr th {\n",
       "        vertical-align: top;\n",
       "    }\n",
       "\n",
       "    .dataframe thead th {\n",
       "        text-align: right;\n",
       "    }\n",
       "</style>\n",
       "<table border=\"1\" class=\"dataframe\">\n",
       "  <thead>\n",
       "    <tr style=\"text-align: right;\">\n",
       "      <th></th>\n",
       "      <th>video_id</th>\n",
       "      <th>title</th>\n",
       "      <th>description</th>\n",
       "      <th>view_count</th>\n",
       "      <th>like_count</th>\n",
       "      <th>dislike_count</th>\n",
       "      <th>comment_count</th>\n",
       "      <th>duration</th>\n",
       "      <th>favorite_count</th>\n",
       "    </tr>\n",
       "  </thead>\n",
       "  <tbody>\n",
       "    <tr>\n",
       "      <th>0</th>\n",
       "      <td>K26_sDKnvMU</td>\n",
       "      <td>Toy Story (1995) Trailer 2 (VHS Capture)</td>\n",
       "      <td>Trailer for Toy Story (1995) captured from the...</td>\n",
       "      <td>116536.0</td>\n",
       "      <td>150.0</td>\n",
       "      <td>0.0</td>\n",
       "      <td>0.0</td>\n",
       "      <td>PT1M31S</td>\n",
       "      <td>0.0</td>\n",
       "    </tr>\n",
       "    <tr>\n",
       "      <th>1</th>\n",
       "      <td>3LPANjHlPxo</td>\n",
       "      <td>Jumanji Trailer 1995</td>\n",
       "      <td>Jumanji Trailer 1995\\nDirector: Joe Johnston\\n...</td>\n",
       "      <td>196585.0</td>\n",
       "      <td>286.0</td>\n",
       "      <td>0.0</td>\n",
       "      <td>0.0</td>\n",
       "      <td>PT2M48S</td>\n",
       "      <td>0.0</td>\n",
       "    </tr>\n",
       "    <tr>\n",
       "      <th>2</th>\n",
       "      <td>rEnOoWs3FuA</td>\n",
       "      <td>Grumpier Old Men - Trailer</td>\n",
       "      <td>The more things change, the more they stay the...</td>\n",
       "      <td>221352.0</td>\n",
       "      <td>220.0</td>\n",
       "      <td>0.0</td>\n",
       "      <td>13.0</td>\n",
       "      <td>PT1M52S</td>\n",
       "      <td>0.0</td>\n",
       "    </tr>\n",
       "    <tr>\n",
       "      <th>3</th>\n",
       "      <td>j9xml1CxgXI</td>\n",
       "      <td>Waiting To Exhale</td>\n",
       "      <td>Whitney Houston and Angela Bassett star in thi...</td>\n",
       "      <td>433241.0</td>\n",
       "      <td>0.0</td>\n",
       "      <td>0.0</td>\n",
       "      <td>0.0</td>\n",
       "      <td>PT2M40S</td>\n",
       "      <td>0.0</td>\n",
       "    </tr>\n",
       "    <tr>\n",
       "      <th>4</th>\n",
       "      <td>2GfZl4kuVNI</td>\n",
       "      <td>Heat Trailer HD (1995)</td>\n",
       "      <td>Director: Michael Mann.\\nCast: Al Pacino, Robe...</td>\n",
       "      <td>1457176.0</td>\n",
       "      <td>7924.0</td>\n",
       "      <td>0.0</td>\n",
       "      <td>668.0</td>\n",
       "      <td>PT2M28S</td>\n",
       "      <td>0.0</td>\n",
       "    </tr>\n",
       "    <tr>\n",
       "      <th>5</th>\n",
       "      <td>twTksx_lWB4</td>\n",
       "      <td>Sabrina (1995) - Trailer</td>\n",
       "      <td>A remake of a 1954 Billy Wilder romance, this ...</td>\n",
       "      <td>1611489.0</td>\n",
       "      <td>0.0</td>\n",
       "      <td>0.0</td>\n",
       "      <td>0.0</td>\n",
       "      <td>PT2M50S</td>\n",
       "      <td>0.0</td>\n",
       "    </tr>\n",
       "    <tr>\n",
       "      <th>6</th>\n",
       "      <td>-C-xXZyX2zU</td>\n",
       "      <td>Tom and Huck trailer</td>\n",
       "      <td>A preview for this 90s disney movie. From the ...</td>\n",
       "      <td>213210.0</td>\n",
       "      <td>333.0</td>\n",
       "      <td>0.0</td>\n",
       "      <td>0.0</td>\n",
       "      <td>PT1M</td>\n",
       "      <td>0.0</td>\n",
       "    </tr>\n",
       "    <tr>\n",
       "      <th>7</th>\n",
       "      <td>lcOqUE0u1LM</td>\n",
       "      <td>James Bond 007: GoldenEye - Official® Trailer ...</td>\n",
       "      <td>Release Date: November 13, 1995\\n\\nPierce Bros...</td>\n",
       "      <td>429598.0</td>\n",
       "      <td>2496.0</td>\n",
       "      <td>0.0</td>\n",
       "      <td>225.0</td>\n",
       "      <td>PT2M52S</td>\n",
       "      <td>0.0</td>\n",
       "    </tr>\n",
       "    <tr>\n",
       "      <th>8</th>\n",
       "      <td>UrC75wUKoFM</td>\n",
       "      <td>The American President 1995 Movie Trailer</td>\n",
       "      <td>Subscribe to MovieTrailersByVD: http://bit.ly/...</td>\n",
       "      <td>18907.0</td>\n",
       "      <td>26.0</td>\n",
       "      <td>0.0</td>\n",
       "      <td>3.0</td>\n",
       "      <td>PT2M50S</td>\n",
       "      <td>0.0</td>\n",
       "    </tr>\n",
       "    <tr>\n",
       "      <th>9</th>\n",
       "      <td>tVdn8JH91Dg</td>\n",
       "      <td>Dracula: Dead and Loving It - Trailer</td>\n",
       "      <td>A comic reinvention of the Bela Lugosi classic...</td>\n",
       "      <td>149909.0</td>\n",
       "      <td>0.0</td>\n",
       "      <td>0.0</td>\n",
       "      <td>10.0</td>\n",
       "      <td>PT2M</td>\n",
       "      <td>0.0</td>\n",
       "    </tr>\n",
       "  </tbody>\n",
       "</table>\n",
       "</div>"
      ],
      "text/plain": [
       "      video_id                                              title  \\\n",
       "0  K26_sDKnvMU           Toy Story (1995) Trailer 2 (VHS Capture)   \n",
       "1  3LPANjHlPxo                               Jumanji Trailer 1995   \n",
       "2  rEnOoWs3FuA                         Grumpier Old Men - Trailer   \n",
       "3  j9xml1CxgXI                                  Waiting To Exhale   \n",
       "4  2GfZl4kuVNI                             Heat Trailer HD (1995)   \n",
       "5  twTksx_lWB4                           Sabrina (1995) - Trailer   \n",
       "6  -C-xXZyX2zU                               Tom and Huck trailer   \n",
       "7  lcOqUE0u1LM  James Bond 007: GoldenEye - Official® Trailer ...   \n",
       "8  UrC75wUKoFM          The American President 1995 Movie Trailer   \n",
       "9  tVdn8JH91Dg              Dracula: Dead and Loving It - Trailer   \n",
       "\n",
       "                                         description  view_count  like_count  \\\n",
       "0  Trailer for Toy Story (1995) captured from the...    116536.0       150.0   \n",
       "1  Jumanji Trailer 1995\\nDirector: Joe Johnston\\n...    196585.0       286.0   \n",
       "2  The more things change, the more they stay the...    221352.0       220.0   \n",
       "3  Whitney Houston and Angela Bassett star in thi...    433241.0         0.0   \n",
       "4  Director: Michael Mann.\\nCast: Al Pacino, Robe...   1457176.0      7924.0   \n",
       "5  A remake of a 1954 Billy Wilder romance, this ...   1611489.0         0.0   \n",
       "6  A preview for this 90s disney movie. From the ...    213210.0       333.0   \n",
       "7  Release Date: November 13, 1995\\n\\nPierce Bros...    429598.0      2496.0   \n",
       "8  Subscribe to MovieTrailersByVD: http://bit.ly/...     18907.0        26.0   \n",
       "9  A comic reinvention of the Bela Lugosi classic...    149909.0         0.0   \n",
       "\n",
       "   dislike_count  comment_count duration  favorite_count  \n",
       "0            0.0            0.0  PT1M31S             0.0  \n",
       "1            0.0            0.0  PT2M48S             0.0  \n",
       "2            0.0           13.0  PT1M52S             0.0  \n",
       "3            0.0            0.0  PT2M40S             0.0  \n",
       "4            0.0          668.0  PT2M28S             0.0  \n",
       "5            0.0            0.0  PT2M50S             0.0  \n",
       "6            0.0            0.0     PT1M             0.0  \n",
       "7            0.0          225.0  PT2M52S             0.0  \n",
       "8            0.0            3.0  PT2M50S             0.0  \n",
       "9            0.0           10.0     PT2M             0.0  "
      ]
     },
     "execution_count": 36,
     "metadata": {},
     "output_type": "execute_result"
    }
   ],
   "source": [
    "df.head(10)"
   ]
  },
  {
   "cell_type": "code",
   "execution_count": null,
   "id": "a791ae36-104b-4723-8fff-f2fe245e713b",
   "metadata": {},
   "outputs": [],
   "source": []
  },
  {
   "cell_type": "code",
   "execution_count": null,
   "id": "32198e79-0894-4218-9a74-f1e497237137",
   "metadata": {},
   "outputs": [],
   "source": []
  },
  {
   "cell_type": "markdown",
   "id": "6ad14048-f692-46ea-b49f-93d5376b1eee",
   "metadata": {},
   "source": [
    "## Sentiment Analysis"
   ]
  },
  {
   "cell_type": "code",
   "execution_count": 45,
   "id": "d409a3b3-0ee5-49a7-9c7f-a3f0dd9647d6",
   "metadata": {},
   "outputs": [
    {
     "name": "stdout",
     "output_type": "stream",
     "text": [
      "Requirement already satisfied: nltk in /opt/anaconda3/lib/python3.11/site-packages (3.8.1)\n",
      "Requirement already satisfied: pandas in /opt/anaconda3/lib/python3.11/site-packages (2.1.4)\n",
      "Requirement already satisfied: click in /opt/anaconda3/lib/python3.11/site-packages (from nltk) (8.1.7)\n",
      "Requirement already satisfied: joblib in /opt/anaconda3/lib/python3.11/site-packages (from nltk) (1.2.0)\n",
      "Requirement already satisfied: regex>=2021.8.3 in /opt/anaconda3/lib/python3.11/site-packages (from nltk) (2023.10.3)\n",
      "Requirement already satisfied: tqdm in /opt/anaconda3/lib/python3.11/site-packages (from nltk) (4.65.0)\n",
      "Requirement already satisfied: numpy<2,>=1.23.2 in /opt/anaconda3/lib/python3.11/site-packages (from pandas) (1.26.4)\n",
      "Requirement already satisfied: python-dateutil>=2.8.2 in /opt/anaconda3/lib/python3.11/site-packages (from pandas) (2.8.2)\n",
      "Requirement already satisfied: pytz>=2020.1 in /opt/anaconda3/lib/python3.11/site-packages (from pandas) (2023.3.post1)\n",
      "Requirement already satisfied: tzdata>=2022.1 in /opt/anaconda3/lib/python3.11/site-packages (from pandas) (2023.3)\n",
      "Requirement already satisfied: six>=1.5 in /opt/anaconda3/lib/python3.11/site-packages (from python-dateutil>=2.8.2->pandas) (1.16.0)\n",
      "Note: you may need to restart the kernel to use updated packages.\n"
     ]
    }
   ],
   "source": [
    "pip install nltk pandas\n"
   ]
  },
  {
   "cell_type": "code",
   "execution_count": 46,
   "id": "86ae9f01-477c-4421-8d3b-51fc18d29410",
   "metadata": {},
   "outputs": [
    {
     "name": "stderr",
     "output_type": "stream",
     "text": [
      "[nltk_data] Downloading package vader_lexicon to\n",
      "[nltk_data]     /Users/salmanmohamm3d/nltk_data...\n"
     ]
    },
    {
     "data": {
      "text/plain": [
       "True"
      ]
     },
     "execution_count": 46,
     "metadata": {},
     "output_type": "execute_result"
    }
   ],
   "source": [
    "import nltk\n",
    "nltk.download('vader_lexicon')\n"
   ]
  },
  {
   "cell_type": "markdown",
   "id": "19a13196-3103-4278-99d8-28b914f593cf",
   "metadata": {},
   "source": [
    "## Error "
   ]
  },
  {
   "cell_type": "code",
   "execution_count": 48,
   "id": "54e18476-1f63-4b9c-8f71-ba9cf9de7c93",
   "metadata": {},
   "outputs": [
    {
     "ename": "AttributeError",
     "evalue": "'float' object has no attribute 'encode'",
     "output_type": "error",
     "traceback": [
      "\u001b[0;31m---------------------------------------------------------------------------\u001b[0m",
      "\u001b[0;31mAttributeError\u001b[0m                            Traceback (most recent call last)",
      "Cell \u001b[0;32mIn[48], line 15\u001b[0m\n\u001b[1;32m     12\u001b[0m     \u001b[38;5;28;01mreturn\u001b[39;00m sia\u001b[38;5;241m.\u001b[39mpolarity_scores(comment)\n\u001b[1;32m     14\u001b[0m \u001b[38;5;66;03m# Apply sentiment analysis to each comment\u001b[39;00m\n\u001b[0;32m---> 15\u001b[0m df[\u001b[38;5;124m'\u001b[39m\u001b[38;5;124msentiment\u001b[39m\u001b[38;5;124m'\u001b[39m] \u001b[38;5;241m=\u001b[39m df[\u001b[38;5;124m'\u001b[39m\u001b[38;5;124mcomment\u001b[39m\u001b[38;5;124m'\u001b[39m]\u001b[38;5;241m.\u001b[39mapply(sentiment_analysis)\n\u001b[1;32m     17\u001b[0m \u001b[38;5;66;03m# Extract sentiment scores\u001b[39;00m\n\u001b[1;32m     18\u001b[0m df[\u001b[38;5;124m'\u001b[39m\u001b[38;5;124mneg\u001b[39m\u001b[38;5;124m'\u001b[39m] \u001b[38;5;241m=\u001b[39m df[\u001b[38;5;124m'\u001b[39m\u001b[38;5;124msentiment\u001b[39m\u001b[38;5;124m'\u001b[39m]\u001b[38;5;241m.\u001b[39mapply(\u001b[38;5;28;01mlambda\u001b[39;00m x: x[\u001b[38;5;124m'\u001b[39m\u001b[38;5;124mneg\u001b[39m\u001b[38;5;124m'\u001b[39m])\n",
      "File \u001b[0;32m/opt/anaconda3/lib/python3.11/site-packages/pandas/core/series.py:4764\u001b[0m, in \u001b[0;36mSeries.apply\u001b[0;34m(self, func, convert_dtype, args, by_row, **kwargs)\u001b[0m\n\u001b[1;32m   4629\u001b[0m \u001b[38;5;28;01mdef\u001b[39;00m \u001b[38;5;21mapply\u001b[39m(\n\u001b[1;32m   4630\u001b[0m     \u001b[38;5;28mself\u001b[39m,\n\u001b[1;32m   4631\u001b[0m     func: AggFuncType,\n\u001b[0;32m   (...)\u001b[0m\n\u001b[1;32m   4636\u001b[0m     \u001b[38;5;241m*\u001b[39m\u001b[38;5;241m*\u001b[39mkwargs,\n\u001b[1;32m   4637\u001b[0m ) \u001b[38;5;241m-\u001b[39m\u001b[38;5;241m>\u001b[39m DataFrame \u001b[38;5;241m|\u001b[39m Series:\n\u001b[1;32m   4638\u001b[0m \u001b[38;5;250m    \u001b[39m\u001b[38;5;124;03m\"\"\"\u001b[39;00m\n\u001b[1;32m   4639\u001b[0m \u001b[38;5;124;03m    Invoke function on values of Series.\u001b[39;00m\n\u001b[1;32m   4640\u001b[0m \n\u001b[0;32m   (...)\u001b[0m\n\u001b[1;32m   4755\u001b[0m \u001b[38;5;124;03m    dtype: float64\u001b[39;00m\n\u001b[1;32m   4756\u001b[0m \u001b[38;5;124;03m    \"\"\"\u001b[39;00m\n\u001b[1;32m   4757\u001b[0m     \u001b[38;5;28;01mreturn\u001b[39;00m SeriesApply(\n\u001b[1;32m   4758\u001b[0m         \u001b[38;5;28mself\u001b[39m,\n\u001b[1;32m   4759\u001b[0m         func,\n\u001b[1;32m   4760\u001b[0m         convert_dtype\u001b[38;5;241m=\u001b[39mconvert_dtype,\n\u001b[1;32m   4761\u001b[0m         by_row\u001b[38;5;241m=\u001b[39mby_row,\n\u001b[1;32m   4762\u001b[0m         args\u001b[38;5;241m=\u001b[39margs,\n\u001b[1;32m   4763\u001b[0m         kwargs\u001b[38;5;241m=\u001b[39mkwargs,\n\u001b[0;32m-> 4764\u001b[0m     )\u001b[38;5;241m.\u001b[39mapply()\n",
      "File \u001b[0;32m/opt/anaconda3/lib/python3.11/site-packages/pandas/core/apply.py:1209\u001b[0m, in \u001b[0;36mSeriesApply.apply\u001b[0;34m(self)\u001b[0m\n\u001b[1;32m   1206\u001b[0m     \u001b[38;5;28;01mreturn\u001b[39;00m \u001b[38;5;28mself\u001b[39m\u001b[38;5;241m.\u001b[39mapply_compat()\n\u001b[1;32m   1208\u001b[0m \u001b[38;5;66;03m# self.func is Callable\u001b[39;00m\n\u001b[0;32m-> 1209\u001b[0m \u001b[38;5;28;01mreturn\u001b[39;00m \u001b[38;5;28mself\u001b[39m\u001b[38;5;241m.\u001b[39mapply_standard()\n",
      "File \u001b[0;32m/opt/anaconda3/lib/python3.11/site-packages/pandas/core/apply.py:1289\u001b[0m, in \u001b[0;36mSeriesApply.apply_standard\u001b[0;34m(self)\u001b[0m\n\u001b[1;32m   1283\u001b[0m \u001b[38;5;66;03m# row-wise access\u001b[39;00m\n\u001b[1;32m   1284\u001b[0m \u001b[38;5;66;03m# apply doesn't have a `na_action` keyword and for backward compat reasons\u001b[39;00m\n\u001b[1;32m   1285\u001b[0m \u001b[38;5;66;03m# we need to give `na_action=\"ignore\"` for categorical data.\u001b[39;00m\n\u001b[1;32m   1286\u001b[0m \u001b[38;5;66;03m# TODO: remove the `na_action=\"ignore\"` when that default has been changed in\u001b[39;00m\n\u001b[1;32m   1287\u001b[0m \u001b[38;5;66;03m#  Categorical (GH51645).\u001b[39;00m\n\u001b[1;32m   1288\u001b[0m action \u001b[38;5;241m=\u001b[39m \u001b[38;5;124m\"\u001b[39m\u001b[38;5;124mignore\u001b[39m\u001b[38;5;124m\"\u001b[39m \u001b[38;5;28;01mif\u001b[39;00m \u001b[38;5;28misinstance\u001b[39m(obj\u001b[38;5;241m.\u001b[39mdtype, CategoricalDtype) \u001b[38;5;28;01melse\u001b[39;00m \u001b[38;5;28;01mNone\u001b[39;00m\n\u001b[0;32m-> 1289\u001b[0m mapped \u001b[38;5;241m=\u001b[39m obj\u001b[38;5;241m.\u001b[39m_map_values(\n\u001b[1;32m   1290\u001b[0m     mapper\u001b[38;5;241m=\u001b[39mcurried, na_action\u001b[38;5;241m=\u001b[39maction, convert\u001b[38;5;241m=\u001b[39m\u001b[38;5;28mself\u001b[39m\u001b[38;5;241m.\u001b[39mconvert_dtype\n\u001b[1;32m   1291\u001b[0m )\n\u001b[1;32m   1293\u001b[0m \u001b[38;5;28;01mif\u001b[39;00m \u001b[38;5;28mlen\u001b[39m(mapped) \u001b[38;5;129;01mand\u001b[39;00m \u001b[38;5;28misinstance\u001b[39m(mapped[\u001b[38;5;241m0\u001b[39m], ABCSeries):\n\u001b[1;32m   1294\u001b[0m     \u001b[38;5;66;03m# GH#43986 Need to do list(mapped) in order to get treated as nested\u001b[39;00m\n\u001b[1;32m   1295\u001b[0m     \u001b[38;5;66;03m#  See also GH#25959 regarding EA support\u001b[39;00m\n\u001b[1;32m   1296\u001b[0m     \u001b[38;5;28;01mreturn\u001b[39;00m obj\u001b[38;5;241m.\u001b[39m_constructor_expanddim(\u001b[38;5;28mlist\u001b[39m(mapped), index\u001b[38;5;241m=\u001b[39mobj\u001b[38;5;241m.\u001b[39mindex)\n",
      "File \u001b[0;32m/opt/anaconda3/lib/python3.11/site-packages/pandas/core/base.py:921\u001b[0m, in \u001b[0;36mIndexOpsMixin._map_values\u001b[0;34m(self, mapper, na_action, convert)\u001b[0m\n\u001b[1;32m    918\u001b[0m \u001b[38;5;28;01mif\u001b[39;00m \u001b[38;5;28misinstance\u001b[39m(arr, ExtensionArray):\n\u001b[1;32m    919\u001b[0m     \u001b[38;5;28;01mreturn\u001b[39;00m arr\u001b[38;5;241m.\u001b[39mmap(mapper, na_action\u001b[38;5;241m=\u001b[39mna_action)\n\u001b[0;32m--> 921\u001b[0m \u001b[38;5;28;01mreturn\u001b[39;00m algorithms\u001b[38;5;241m.\u001b[39mmap_array(arr, mapper, na_action\u001b[38;5;241m=\u001b[39mna_action, convert\u001b[38;5;241m=\u001b[39mconvert)\n",
      "File \u001b[0;32m/opt/anaconda3/lib/python3.11/site-packages/pandas/core/algorithms.py:1814\u001b[0m, in \u001b[0;36mmap_array\u001b[0;34m(arr, mapper, na_action, convert)\u001b[0m\n\u001b[1;32m   1812\u001b[0m values \u001b[38;5;241m=\u001b[39m arr\u001b[38;5;241m.\u001b[39mastype(\u001b[38;5;28mobject\u001b[39m, copy\u001b[38;5;241m=\u001b[39m\u001b[38;5;28;01mFalse\u001b[39;00m)\n\u001b[1;32m   1813\u001b[0m \u001b[38;5;28;01mif\u001b[39;00m na_action \u001b[38;5;129;01mis\u001b[39;00m \u001b[38;5;28;01mNone\u001b[39;00m:\n\u001b[0;32m-> 1814\u001b[0m     \u001b[38;5;28;01mreturn\u001b[39;00m lib\u001b[38;5;241m.\u001b[39mmap_infer(values, mapper, convert\u001b[38;5;241m=\u001b[39mconvert)\n\u001b[1;32m   1815\u001b[0m \u001b[38;5;28;01melse\u001b[39;00m:\n\u001b[1;32m   1816\u001b[0m     \u001b[38;5;28;01mreturn\u001b[39;00m lib\u001b[38;5;241m.\u001b[39mmap_infer_mask(\n\u001b[1;32m   1817\u001b[0m         values, mapper, mask\u001b[38;5;241m=\u001b[39misna(values)\u001b[38;5;241m.\u001b[39mview(np\u001b[38;5;241m.\u001b[39muint8), convert\u001b[38;5;241m=\u001b[39mconvert\n\u001b[1;32m   1818\u001b[0m     )\n",
      "File \u001b[0;32mlib.pyx:2926\u001b[0m, in \u001b[0;36mpandas._libs.lib.map_infer\u001b[0;34m()\u001b[0m\n",
      "Cell \u001b[0;32mIn[48], line 12\u001b[0m, in \u001b[0;36msentiment_analysis\u001b[0;34m(comment)\u001b[0m\n\u001b[1;32m     11\u001b[0m \u001b[38;5;28;01mdef\u001b[39;00m \u001b[38;5;21msentiment_analysis\u001b[39m(comment):\n\u001b[0;32m---> 12\u001b[0m     \u001b[38;5;28;01mreturn\u001b[39;00m sia\u001b[38;5;241m.\u001b[39mpolarity_scores(comment)\n",
      "File \u001b[0;32m/opt/anaconda3/lib/python3.11/site-packages/nltk/sentiment/vader.py:366\u001b[0m, in \u001b[0;36mSentimentIntensityAnalyzer.polarity_scores\u001b[0;34m(self, text)\u001b[0m\n\u001b[1;32m    355\u001b[0m \u001b[38;5;250m\u001b[39m\u001b[38;5;124;03m\"\"\"\u001b[39;00m\n\u001b[1;32m    356\u001b[0m \u001b[38;5;124;03mReturn a float for sentiment strength based on the input text.\u001b[39;00m\n\u001b[1;32m    357\u001b[0m \u001b[38;5;124;03mPositive values are positive valence, negative value are negative\u001b[39;00m\n\u001b[0;32m   (...)\u001b[0m\n\u001b[1;32m    363\u001b[0m \u001b[38;5;124;03m    matched as if it was a normal word in the sentence.\u001b[39;00m\n\u001b[1;32m    364\u001b[0m \u001b[38;5;124;03m\"\"\"\u001b[39;00m\n\u001b[1;32m    365\u001b[0m \u001b[38;5;66;03m# text, words_and_emoticons, is_cap_diff = self.preprocess(text)\u001b[39;00m\n\u001b[0;32m--> 366\u001b[0m sentitext \u001b[38;5;241m=\u001b[39m SentiText(\n\u001b[1;32m    367\u001b[0m     text, \u001b[38;5;28mself\u001b[39m\u001b[38;5;241m.\u001b[39mconstants\u001b[38;5;241m.\u001b[39mPUNC_LIST, \u001b[38;5;28mself\u001b[39m\u001b[38;5;241m.\u001b[39mconstants\u001b[38;5;241m.\u001b[39mREGEX_REMOVE_PUNCTUATION\n\u001b[1;32m    368\u001b[0m )\n\u001b[1;32m    369\u001b[0m sentiments \u001b[38;5;241m=\u001b[39m []\n\u001b[1;32m    370\u001b[0m words_and_emoticons \u001b[38;5;241m=\u001b[39m sentitext\u001b[38;5;241m.\u001b[39mwords_and_emoticons\n",
      "File \u001b[0;32m/opt/anaconda3/lib/python3.11/site-packages/nltk/sentiment/vader.py:270\u001b[0m, in \u001b[0;36mSentiText.__init__\u001b[0;34m(self, text, punc_list, regex_remove_punctuation)\u001b[0m\n\u001b[1;32m    268\u001b[0m \u001b[38;5;28;01mdef\u001b[39;00m \u001b[38;5;21m__init__\u001b[39m(\u001b[38;5;28mself\u001b[39m, text, punc_list, regex_remove_punctuation):\n\u001b[1;32m    269\u001b[0m     \u001b[38;5;28;01mif\u001b[39;00m \u001b[38;5;129;01mnot\u001b[39;00m \u001b[38;5;28misinstance\u001b[39m(text, \u001b[38;5;28mstr\u001b[39m):\n\u001b[0;32m--> 270\u001b[0m         text \u001b[38;5;241m=\u001b[39m \u001b[38;5;28mstr\u001b[39m(text\u001b[38;5;241m.\u001b[39mencode(\u001b[38;5;124m\"\u001b[39m\u001b[38;5;124mutf-8\u001b[39m\u001b[38;5;124m\"\u001b[39m))\n\u001b[1;32m    271\u001b[0m     \u001b[38;5;28mself\u001b[39m\u001b[38;5;241m.\u001b[39mtext \u001b[38;5;241m=\u001b[39m text\n\u001b[1;32m    272\u001b[0m     \u001b[38;5;28mself\u001b[39m\u001b[38;5;241m.\u001b[39mPUNC_LIST \u001b[38;5;241m=\u001b[39m punc_list\n",
      "\u001b[0;31mAttributeError\u001b[0m: 'float' object has no attribute 'encode'"
     ]
    }
   ],
   "source": [
    "import pandas as pd\n",
    "from nltk.sentiment.vader import SentimentIntensityAnalyzer\n",
    "\n",
    "# Load the CSV file\n",
    "df = pd.read_csv('/Users/salmanmohamm3d/Desktop/Social M A/video_comments_7K(1).csv')\n",
    "\n",
    "# Initialize VADER sentiment analyzer\n",
    "sia = SentimentIntensityAnalyzer()\n",
    "\n",
    "# Function to calculate sentiment scores\n",
    "def sentiment_analysis(comment):\n",
    "    return sia.polarity_scores(comment)\n",
    "\n",
    "# Apply sentiment analysis to each comment\n",
    "df['sentiment'] = df['comment'].apply(sentiment_analysis)\n",
    "\n",
    "# Extract sentiment scores\n",
    "df['neg'] = df['sentiment'].apply(lambda x: x['neg'])\n",
    "df['neu'] = df['sentiment'].apply(lambda x: x['neu'])\n",
    "df['pos'] = df['sentiment'].apply(lambda x: x['pos'])\n",
    "df['compound'] = df['sentiment'].apply(lambda x: x['compound'])\n",
    "\n",
    "# Calculate average sentiment scores for each video\n",
    "video_sentiments = df.groupby('video_id').mean().reset_index()\n",
    "\n",
    "# Save the sentiment scores to a new CSV file\n",
    "video_sentiments.to_csv('video_sentiments.csv', index=False)\n",
    "\n",
    "print(video_sentiments)\n"
   ]
  },
  {
   "cell_type": "markdown",
   "id": "0239974a-cf67-4797-bab7-9645754148d2",
   "metadata": {},
   "source": [
    "## error"
   ]
  },
  {
   "cell_type": "code",
   "execution_count": 55,
   "id": "fb8c4c4a-ce0a-4582-9ea7-5290a06605e1",
   "metadata": {},
   "outputs": [
    {
     "ename": "AttributeError",
     "evalue": "'float' object has no attribute 'encode'",
     "output_type": "error",
     "traceback": [
      "\u001b[0;31m---------------------------------------------------------------------------\u001b[0m",
      "\u001b[0;31mAttributeError\u001b[0m                            Traceback (most recent call last)",
      "Cell \u001b[0;32mIn[55], line 26\u001b[0m\n\u001b[1;32m     23\u001b[0m     \u001b[38;5;28;01mreturn\u001b[39;00m sia\u001b[38;5;241m.\u001b[39mpolarity_scores(comment)\n\u001b[1;32m     25\u001b[0m \u001b[38;5;66;03m# Apply sentiment analysis to each comment\u001b[39;00m\n\u001b[0;32m---> 26\u001b[0m df[\u001b[38;5;124m'\u001b[39m\u001b[38;5;124msentiment\u001b[39m\u001b[38;5;124m'\u001b[39m] \u001b[38;5;241m=\u001b[39m df[\u001b[38;5;124m'\u001b[39m\u001b[38;5;124mcomment\u001b[39m\u001b[38;5;124m'\u001b[39m]\u001b[38;5;241m.\u001b[39mapply(sentiment_analysis)\n\u001b[1;32m     28\u001b[0m \u001b[38;5;66;03m# Extract sentiment scores\u001b[39;00m\n\u001b[1;32m     29\u001b[0m df[\u001b[38;5;124m'\u001b[39m\u001b[38;5;124mneg\u001b[39m\u001b[38;5;124m'\u001b[39m] \u001b[38;5;241m=\u001b[39m df[\u001b[38;5;124m'\u001b[39m\u001b[38;5;124msentiment\u001b[39m\u001b[38;5;124m'\u001b[39m]\u001b[38;5;241m.\u001b[39mapply(\u001b[38;5;28;01mlambda\u001b[39;00m x: x[\u001b[38;5;124m'\u001b[39m\u001b[38;5;124mneg\u001b[39m\u001b[38;5;124m'\u001b[39m])\n",
      "File \u001b[0;32m/opt/anaconda3/lib/python3.11/site-packages/pandas/core/series.py:4764\u001b[0m, in \u001b[0;36mSeries.apply\u001b[0;34m(self, func, convert_dtype, args, by_row, **kwargs)\u001b[0m\n\u001b[1;32m   4629\u001b[0m \u001b[38;5;28;01mdef\u001b[39;00m \u001b[38;5;21mapply\u001b[39m(\n\u001b[1;32m   4630\u001b[0m     \u001b[38;5;28mself\u001b[39m,\n\u001b[1;32m   4631\u001b[0m     func: AggFuncType,\n\u001b[0;32m   (...)\u001b[0m\n\u001b[1;32m   4636\u001b[0m     \u001b[38;5;241m*\u001b[39m\u001b[38;5;241m*\u001b[39mkwargs,\n\u001b[1;32m   4637\u001b[0m ) \u001b[38;5;241m-\u001b[39m\u001b[38;5;241m>\u001b[39m DataFrame \u001b[38;5;241m|\u001b[39m Series:\n\u001b[1;32m   4638\u001b[0m \u001b[38;5;250m    \u001b[39m\u001b[38;5;124;03m\"\"\"\u001b[39;00m\n\u001b[1;32m   4639\u001b[0m \u001b[38;5;124;03m    Invoke function on values of Series.\u001b[39;00m\n\u001b[1;32m   4640\u001b[0m \n\u001b[0;32m   (...)\u001b[0m\n\u001b[1;32m   4755\u001b[0m \u001b[38;5;124;03m    dtype: float64\u001b[39;00m\n\u001b[1;32m   4756\u001b[0m \u001b[38;5;124;03m    \"\"\"\u001b[39;00m\n\u001b[1;32m   4757\u001b[0m     \u001b[38;5;28;01mreturn\u001b[39;00m SeriesApply(\n\u001b[1;32m   4758\u001b[0m         \u001b[38;5;28mself\u001b[39m,\n\u001b[1;32m   4759\u001b[0m         func,\n\u001b[1;32m   4760\u001b[0m         convert_dtype\u001b[38;5;241m=\u001b[39mconvert_dtype,\n\u001b[1;32m   4761\u001b[0m         by_row\u001b[38;5;241m=\u001b[39mby_row,\n\u001b[1;32m   4762\u001b[0m         args\u001b[38;5;241m=\u001b[39margs,\n\u001b[1;32m   4763\u001b[0m         kwargs\u001b[38;5;241m=\u001b[39mkwargs,\n\u001b[0;32m-> 4764\u001b[0m     )\u001b[38;5;241m.\u001b[39mapply()\n",
      "File \u001b[0;32m/opt/anaconda3/lib/python3.11/site-packages/pandas/core/apply.py:1209\u001b[0m, in \u001b[0;36mSeriesApply.apply\u001b[0;34m(self)\u001b[0m\n\u001b[1;32m   1206\u001b[0m     \u001b[38;5;28;01mreturn\u001b[39;00m \u001b[38;5;28mself\u001b[39m\u001b[38;5;241m.\u001b[39mapply_compat()\n\u001b[1;32m   1208\u001b[0m \u001b[38;5;66;03m# self.func is Callable\u001b[39;00m\n\u001b[0;32m-> 1209\u001b[0m \u001b[38;5;28;01mreturn\u001b[39;00m \u001b[38;5;28mself\u001b[39m\u001b[38;5;241m.\u001b[39mapply_standard()\n",
      "File \u001b[0;32m/opt/anaconda3/lib/python3.11/site-packages/pandas/core/apply.py:1289\u001b[0m, in \u001b[0;36mSeriesApply.apply_standard\u001b[0;34m(self)\u001b[0m\n\u001b[1;32m   1283\u001b[0m \u001b[38;5;66;03m# row-wise access\u001b[39;00m\n\u001b[1;32m   1284\u001b[0m \u001b[38;5;66;03m# apply doesn't have a `na_action` keyword and for backward compat reasons\u001b[39;00m\n\u001b[1;32m   1285\u001b[0m \u001b[38;5;66;03m# we need to give `na_action=\"ignore\"` for categorical data.\u001b[39;00m\n\u001b[1;32m   1286\u001b[0m \u001b[38;5;66;03m# TODO: remove the `na_action=\"ignore\"` when that default has been changed in\u001b[39;00m\n\u001b[1;32m   1287\u001b[0m \u001b[38;5;66;03m#  Categorical (GH51645).\u001b[39;00m\n\u001b[1;32m   1288\u001b[0m action \u001b[38;5;241m=\u001b[39m \u001b[38;5;124m\"\u001b[39m\u001b[38;5;124mignore\u001b[39m\u001b[38;5;124m\"\u001b[39m \u001b[38;5;28;01mif\u001b[39;00m \u001b[38;5;28misinstance\u001b[39m(obj\u001b[38;5;241m.\u001b[39mdtype, CategoricalDtype) \u001b[38;5;28;01melse\u001b[39;00m \u001b[38;5;28;01mNone\u001b[39;00m\n\u001b[0;32m-> 1289\u001b[0m mapped \u001b[38;5;241m=\u001b[39m obj\u001b[38;5;241m.\u001b[39m_map_values(\n\u001b[1;32m   1290\u001b[0m     mapper\u001b[38;5;241m=\u001b[39mcurried, na_action\u001b[38;5;241m=\u001b[39maction, convert\u001b[38;5;241m=\u001b[39m\u001b[38;5;28mself\u001b[39m\u001b[38;5;241m.\u001b[39mconvert_dtype\n\u001b[1;32m   1291\u001b[0m )\n\u001b[1;32m   1293\u001b[0m \u001b[38;5;28;01mif\u001b[39;00m \u001b[38;5;28mlen\u001b[39m(mapped) \u001b[38;5;129;01mand\u001b[39;00m \u001b[38;5;28misinstance\u001b[39m(mapped[\u001b[38;5;241m0\u001b[39m], ABCSeries):\n\u001b[1;32m   1294\u001b[0m     \u001b[38;5;66;03m# GH#43986 Need to do list(mapped) in order to get treated as nested\u001b[39;00m\n\u001b[1;32m   1295\u001b[0m     \u001b[38;5;66;03m#  See also GH#25959 regarding EA support\u001b[39;00m\n\u001b[1;32m   1296\u001b[0m     \u001b[38;5;28;01mreturn\u001b[39;00m obj\u001b[38;5;241m.\u001b[39m_constructor_expanddim(\u001b[38;5;28mlist\u001b[39m(mapped), index\u001b[38;5;241m=\u001b[39mobj\u001b[38;5;241m.\u001b[39mindex)\n",
      "File \u001b[0;32m/opt/anaconda3/lib/python3.11/site-packages/pandas/core/base.py:921\u001b[0m, in \u001b[0;36mIndexOpsMixin._map_values\u001b[0;34m(self, mapper, na_action, convert)\u001b[0m\n\u001b[1;32m    918\u001b[0m \u001b[38;5;28;01mif\u001b[39;00m \u001b[38;5;28misinstance\u001b[39m(arr, ExtensionArray):\n\u001b[1;32m    919\u001b[0m     \u001b[38;5;28;01mreturn\u001b[39;00m arr\u001b[38;5;241m.\u001b[39mmap(mapper, na_action\u001b[38;5;241m=\u001b[39mna_action)\n\u001b[0;32m--> 921\u001b[0m \u001b[38;5;28;01mreturn\u001b[39;00m algorithms\u001b[38;5;241m.\u001b[39mmap_array(arr, mapper, na_action\u001b[38;5;241m=\u001b[39mna_action, convert\u001b[38;5;241m=\u001b[39mconvert)\n",
      "File \u001b[0;32m/opt/anaconda3/lib/python3.11/site-packages/pandas/core/algorithms.py:1814\u001b[0m, in \u001b[0;36mmap_array\u001b[0;34m(arr, mapper, na_action, convert)\u001b[0m\n\u001b[1;32m   1812\u001b[0m values \u001b[38;5;241m=\u001b[39m arr\u001b[38;5;241m.\u001b[39mastype(\u001b[38;5;28mobject\u001b[39m, copy\u001b[38;5;241m=\u001b[39m\u001b[38;5;28;01mFalse\u001b[39;00m)\n\u001b[1;32m   1813\u001b[0m \u001b[38;5;28;01mif\u001b[39;00m na_action \u001b[38;5;129;01mis\u001b[39;00m \u001b[38;5;28;01mNone\u001b[39;00m:\n\u001b[0;32m-> 1814\u001b[0m     \u001b[38;5;28;01mreturn\u001b[39;00m lib\u001b[38;5;241m.\u001b[39mmap_infer(values, mapper, convert\u001b[38;5;241m=\u001b[39mconvert)\n\u001b[1;32m   1815\u001b[0m \u001b[38;5;28;01melse\u001b[39;00m:\n\u001b[1;32m   1816\u001b[0m     \u001b[38;5;28;01mreturn\u001b[39;00m lib\u001b[38;5;241m.\u001b[39mmap_infer_mask(\n\u001b[1;32m   1817\u001b[0m         values, mapper, mask\u001b[38;5;241m=\u001b[39misna(values)\u001b[38;5;241m.\u001b[39mview(np\u001b[38;5;241m.\u001b[39muint8), convert\u001b[38;5;241m=\u001b[39mconvert\n\u001b[1;32m   1818\u001b[0m     )\n",
      "File \u001b[0;32mlib.pyx:2926\u001b[0m, in \u001b[0;36mpandas._libs.lib.map_infer\u001b[0;34m()\u001b[0m\n",
      "Cell \u001b[0;32mIn[55], line 23\u001b[0m, in \u001b[0;36msentiment_analysis\u001b[0;34m(comment)\u001b[0m\n\u001b[1;32m     22\u001b[0m \u001b[38;5;28;01mdef\u001b[39;00m \u001b[38;5;21msentiment_analysis\u001b[39m(comment):\n\u001b[0;32m---> 23\u001b[0m     \u001b[38;5;28;01mreturn\u001b[39;00m sia\u001b[38;5;241m.\u001b[39mpolarity_scores(comment)\n",
      "File \u001b[0;32m/opt/anaconda3/lib/python3.11/site-packages/nltk/sentiment/vader.py:366\u001b[0m, in \u001b[0;36mSentimentIntensityAnalyzer.polarity_scores\u001b[0;34m(self, text)\u001b[0m\n\u001b[1;32m    355\u001b[0m \u001b[38;5;250m\u001b[39m\u001b[38;5;124;03m\"\"\"\u001b[39;00m\n\u001b[1;32m    356\u001b[0m \u001b[38;5;124;03mReturn a float for sentiment strength based on the input text.\u001b[39;00m\n\u001b[1;32m    357\u001b[0m \u001b[38;5;124;03mPositive values are positive valence, negative value are negative\u001b[39;00m\n\u001b[0;32m   (...)\u001b[0m\n\u001b[1;32m    363\u001b[0m \u001b[38;5;124;03m    matched as if it was a normal word in the sentence.\u001b[39;00m\n\u001b[1;32m    364\u001b[0m \u001b[38;5;124;03m\"\"\"\u001b[39;00m\n\u001b[1;32m    365\u001b[0m \u001b[38;5;66;03m# text, words_and_emoticons, is_cap_diff = self.preprocess(text)\u001b[39;00m\n\u001b[0;32m--> 366\u001b[0m sentitext \u001b[38;5;241m=\u001b[39m SentiText(\n\u001b[1;32m    367\u001b[0m     text, \u001b[38;5;28mself\u001b[39m\u001b[38;5;241m.\u001b[39mconstants\u001b[38;5;241m.\u001b[39mPUNC_LIST, \u001b[38;5;28mself\u001b[39m\u001b[38;5;241m.\u001b[39mconstants\u001b[38;5;241m.\u001b[39mREGEX_REMOVE_PUNCTUATION\n\u001b[1;32m    368\u001b[0m )\n\u001b[1;32m    369\u001b[0m sentiments \u001b[38;5;241m=\u001b[39m []\n\u001b[1;32m    370\u001b[0m words_and_emoticons \u001b[38;5;241m=\u001b[39m sentitext\u001b[38;5;241m.\u001b[39mwords_and_emoticons\n",
      "File \u001b[0;32m/opt/anaconda3/lib/python3.11/site-packages/nltk/sentiment/vader.py:270\u001b[0m, in \u001b[0;36mSentiText.__init__\u001b[0;34m(self, text, punc_list, regex_remove_punctuation)\u001b[0m\n\u001b[1;32m    268\u001b[0m \u001b[38;5;28;01mdef\u001b[39;00m \u001b[38;5;21m__init__\u001b[39m(\u001b[38;5;28mself\u001b[39m, text, punc_list, regex_remove_punctuation):\n\u001b[1;32m    269\u001b[0m     \u001b[38;5;28;01mif\u001b[39;00m \u001b[38;5;129;01mnot\u001b[39;00m \u001b[38;5;28misinstance\u001b[39m(text, \u001b[38;5;28mstr\u001b[39m):\n\u001b[0;32m--> 270\u001b[0m         text \u001b[38;5;241m=\u001b[39m \u001b[38;5;28mstr\u001b[39m(text\u001b[38;5;241m.\u001b[39mencode(\u001b[38;5;124m\"\u001b[39m\u001b[38;5;124mutf-8\u001b[39m\u001b[38;5;124m\"\u001b[39m))\n\u001b[1;32m    271\u001b[0m     \u001b[38;5;28mself\u001b[39m\u001b[38;5;241m.\u001b[39mtext \u001b[38;5;241m=\u001b[39m text\n\u001b[1;32m    272\u001b[0m     \u001b[38;5;28mself\u001b[39m\u001b[38;5;241m.\u001b[39mPUNC_LIST \u001b[38;5;241m=\u001b[39m punc_list\n",
      "\u001b[0;31mAttributeError\u001b[0m: 'float' object has no attribute 'encode'"
     ]
    }
   ],
   "source": [
    "import pandas as pd\n",
    "from nltk.sentiment.vader import SentimentIntensityAnalyzer\n",
    "\n",
    "# Try to read the CSV file with additional parameters\n",
    "try:\n",
    "    df = pd.read_csv('/Users/salmanmohamm3d/Desktop/Social M A/video_comments_7K(1).csv', sep=',', on_bad_lines='skip')\n",
    "except pd.errors.ParserError:\n",
    "    print(\"Error reading the CSV file. Please check the file format.\")\n",
    "    # Alternatively, you can try reading the file in chunks\n",
    "    chunks = []\n",
    "    try:\n",
    "        for chunk in pd.read_csv('/Users/salmanmohamm3d/Desktop/Social M A/video_comments_7K(1).csv', sep=',', chunksize=1000):\n",
    "            chunks.append(chunk)\n",
    "        df = pd.concat(chunks, axis=0)\n",
    "    except Exception as e:\n",
    "        print(f\"Failed to read the CSV file in chunks. Error: {e}\")\n",
    "\n",
    "# Initialize VADER sentiment analyzer\n",
    "sia = SentimentIntensityAnalyzer()\n",
    "\n",
    "# Function to calculate sentiment scores\n",
    "def sentiment_analysis(comment):\n",
    "    return sia.polarity_scores(comment)\n",
    "\n",
    "# Apply sentiment analysis to each comment\n",
    "df['sentiment'] = df['comment'].apply(sentiment_analysis)\n",
    "\n",
    "# Extract sentiment scores\n",
    "df['neg'] = df['sentiment'].apply(lambda x: x['neg'])\n",
    "df['neu'] = df['sentiment'].apply(lambda x: x['neu'])\n",
    "df['pos'] = df['sentiment'].apply(lambda x: x['pos'])\n",
    "df['compound'] = df['sentiment'].apply(lambda x: x['compound'])\n",
    "\n",
    "# Calculate average sentiment scores for each video\n",
    "video_sentiments = df.groupby('video_id').mean().reset_index()\n",
    "\n",
    "# Save the sentiment scores to a new CSV file\n",
    "video_sentiments.to_csv('video_sentiments.csv', index=False)\n",
    "\n",
    "print(video_sentiments)\n"
   ]
  },
  {
   "cell_type": "code",
   "execution_count": null,
   "id": "7671b044-832b-4f08-921f-eaa365772c54",
   "metadata": {},
   "outputs": [],
   "source": []
  },
  {
   "cell_type": "code",
   "execution_count": 66,
   "id": "79fcbdac-caee-4c4d-81f8-7147d62e4a33",
   "metadata": {},
   "outputs": [
    {
     "name": "stdout",
     "output_type": "stream",
     "text": [
      "           video_id                                            comment    neg  \\\n",
      "0       rEnOoWs3FuA                Buena película de comedia romántica  0.000   \n",
      "1       rEnOoWs3FuA  <a href=\"https://www.youtube.com/watch?v=rEnOo...  0.000   \n",
      "2       rEnOoWs3FuA      I&#39;m watching this now, it never gets old🤣  0.000   \n",
      "3       rEnOoWs3FuA                                      Canaloni !!!!  0.000   \n",
      "4       rEnOoWs3FuA  I was looking for halloween themed movies and ...  0.000   \n",
      "...             ...                                                ...    ...   \n",
      "337732  sDQjTZvVXWU  For those of you who live in the USA, or are v...  0.000   \n",
      "337733  sDQjTZvVXWU  Has anyone uploaded this movie here? If yes, T...  0.000   \n",
      "337734  sDQjTZvVXWU  I am watching it right now on Encore Network. ...  0.089   \n",
      "337735  sDQjTZvVXWU                                            me too!  0.000   \n",
      "337736  sDQjTZvVXWU          I love this very  much under-rated movie!  0.000   \n",
      "\n",
      "          neu    pos  compound  \n",
      "0       1.000  0.000    0.0000  \n",
      "1       1.000  0.000    0.0000  \n",
      "2       1.000  0.000    0.0000  \n",
      "3       1.000  0.000    0.0000  \n",
      "4       1.000  0.000    0.0000  \n",
      "...       ...    ...       ...  \n",
      "337732  0.818  0.182    0.8908  \n",
      "337733  0.557  0.443    0.9622  \n",
      "337734  0.812  0.099    0.1208  \n",
      "337735  1.000  0.000    0.0000  \n",
      "337736  0.527  0.473    0.6696  \n",
      "\n",
      "[337737 rows x 6 columns]\n"
     ]
    }
   ],
   "source": [
    "import pandas as pd\n",
    "from nltk.sentiment.vader import SentimentIntensityAnalyzer\n",
    "import warnings\n",
    "\n",
    "# Initialize VADER sentiment intensity analyzer\n",
    "sia = SentimentIntensityAnalyzer()\n",
    "\n",
    "# Try to read the CSV file with additional parameters\n",
    "try:\n",
    "    df = pd.read_csv('/Users/salmanmohamm3d/Desktop/Social M A/video_comments_7K(1).csv', sep=',', on_bad_lines='skip')\n",
    "except pd.errors.ParserError:\n",
    "    print(\"Error reading the CSV file. Please check the file format.\")\n",
    "\n",
    "# Ensure all comments are strings\n",
    "df['comment'] = df['comment'].astype(str)\n",
    "\n",
    "# Define a function for sentiment analysis\n",
    "def sentiment_analysis(comment):\n",
    "    return sia.polarity_scores(comment)\n",
    "\n",
    "# Apply sentiment analysis to each comment\n",
    "df['sentiment'] = df['comment'].apply(sentiment_analysis)\n",
    "\n",
    "# Extract sentiment scores\n",
    "df['neg'] = df['sentiment'].apply(lambda x: x['neg'])\n",
    "df['neu'] = df['sentiment'].apply(lambda x: x['neu'])\n",
    "df['pos'] = df['sentiment'].apply(lambda x: x['pos'])\n",
    "df['compound'] = df['sentiment'].apply(lambda x: x['compound'])\n",
    "\n",
    "# Display the DataFrame with sentiment scores and video_id\n",
    "print(df[['video_id', 'comment', 'neg', 'neu', 'pos', 'compound']])\n"
   ]
  },
  {
   "cell_type": "code",
   "execution_count": 67,
   "id": "3740e480-04c9-48ec-b463-7b02b8a613f2",
   "metadata": {},
   "outputs": [
    {
     "name": "stdout",
     "output_type": "stream",
     "text": [
      "           video_id                                            comment    neg  \\\n",
      "337727  sDQjTZvVXWU                               y not ginger widow ?  0.000   \n",
      "337728  sDQjTZvVXWU  Wish there was a Hawkeye and Black Widow movie...  0.000   \n",
      "337729  sDQjTZvVXWU                                           avengers  0.000   \n",
      "337730  sDQjTZvVXWU  wow. i would have watched this. can someone re...  0.000   \n",
      "337731  sDQjTZvVXWU      u can&#39;t blame black widow though at times  0.286   \n",
      "337732  sDQjTZvVXWU  For those of you who live in the USA, or are v...  0.000   \n",
      "337733  sDQjTZvVXWU  Has anyone uploaded this movie here? If yes, T...  0.000   \n",
      "337734  sDQjTZvVXWU  I am watching it right now on Encore Network. ...  0.089   \n",
      "337735  sDQjTZvVXWU                                            me too!  0.000   \n",
      "337736  sDQjTZvVXWU          I love this very  much under-rated movie!  0.000   \n",
      "\n",
      "          neu    pos  compound  \n",
      "337727  1.000  0.000    0.0000  \n",
      "337728  0.816  0.184    0.4019  \n",
      "337729  1.000  0.000    0.0000  \n",
      "337730  0.544  0.456    0.7729  \n",
      "337731  0.714  0.000   -0.3400  \n",
      "337732  0.818  0.182    0.8908  \n",
      "337733  0.557  0.443    0.9622  \n",
      "337734  0.812  0.099    0.1208  \n",
      "337735  1.000  0.000    0.0000  \n",
      "337736  0.527  0.473    0.6696  \n"
     ]
    }
   ],
   "source": [
    "# Printing the first 10 rows of the DataFrame, showing only the 'comment', 'neg', 'neu', 'pos', and 'compound' columns\n",
    "print(df[['video_id', 'comment', 'neg', 'neu', 'pos', 'compound']].tail(10))\n"
   ]
  },
  {
   "cell_type": "code",
   "execution_count": null,
   "id": "e69b4520-ba4b-4e13-a37e-26b9f53e8ee9",
   "metadata": {},
   "outputs": [],
   "source": []
  },
  {
   "cell_type": "code",
   "execution_count": null,
   "id": "4a7ec02e-a033-4889-a817-0ca93af39be2",
   "metadata": {},
   "outputs": [],
   "source": []
  },
  {
   "cell_type": "code",
   "execution_count": null,
   "id": "49688dbd-0830-49b8-89b0-a0c839bcc475",
   "metadata": {},
   "outputs": [],
   "source": []
  },
  {
   "cell_type": "markdown",
   "id": "9d8a335c-e4a2-4755-a679-371687f95535",
   "metadata": {},
   "source": [
    "## Grouping into single vedio ID "
   ]
  },
  {
   "cell_type": "code",
   "execution_count": 83,
   "id": "0d58f2b4-9c22-4641-af92-022f50427ec0",
   "metadata": {},
   "outputs": [
    {
     "name": "stdout",
     "output_type": "stream",
     "text": [
      "         video_id       neg       neu       pos  compound\n",
      "4606  zInUDi7zdBI  0.117375  0.723000  0.159594  0.048467\n",
      "4607  zInygRFVbxA  0.136874  0.671937  0.191126 -0.010201\n",
      "4608  zJLzkvtlWbg  0.063478  0.836478  0.100087  0.066822\n",
      "4609  zJylEoxPHSQ  0.116000  0.746667  0.137333  0.161267\n",
      "4610  zLckjRbfUlE  0.021667  0.953667  0.024667  0.025733\n",
      "4611  zLrqyfkXt_A  0.052497  0.771432  0.172975  0.206020\n",
      "4612  zMFZOu8rDUQ  0.067296  0.693960  0.238728  0.261612\n",
      "4613  zNKtIHqP1pk  0.111143  0.840214  0.048643  0.000486\n",
      "4614  zOLyXi3uY84  0.000000  1.000000  0.000000  0.000000\n",
      "4615  zPJ6DBYcFbE  0.054183  0.745533  0.200283  0.197533\n",
      "4616  zPdp2MH19dY  0.044500  0.720273  0.235136  0.287741\n",
      "4617  zSLGPdpd2d0  0.098586  0.706059  0.195363  0.121370\n",
      "4618  zSjL3pJP4Wg  0.012200  0.769400  0.218333  0.287233\n",
      "4619  zXWlTD6eiuk  0.000000  0.631000  0.369000  0.752500\n",
      "4620  zYTMcFOMSYk  0.071778  0.853000  0.075222 -0.026567\n",
      "4621  zZA41HbwPLs  0.076883  0.746411  0.176695  0.190061\n",
      "4622  zZFiH0SQpiY  0.137250  0.576000  0.286750  0.164550\n",
      "4623  z_749VE-fMQ  0.318000  0.317000  0.365000 -0.070200\n",
      "4624  z_AguDqCBvo  0.115092  0.691462  0.193415  0.128238\n",
      "4625  z_An3W-oO2k  0.079393  0.713035  0.205828  0.213617\n",
      "4626  zaC2bWF60A8  0.070500  0.668167  0.261250  0.377850\n",
      "4627  zaEWLuVJee0  0.091741  0.735655  0.172614  0.162556\n",
      "4628  zdSZaTBWQqw  0.023778  0.685444  0.290806  0.335831\n",
      "4629  zderyk3azuY  0.010733  0.737800  0.251467  0.250980\n",
      "4630  zdrYIRk3Hi0  0.114091  0.733545  0.152364 -0.073600\n",
      "4631  zfFWBWKwQT8  0.057235  0.748137  0.194686  0.308373\n",
      "4632  ziT9MlQjDjM  0.140204  0.686714  0.173061  0.177996\n",
      "4633  zkhbVjiPTv0  0.038500  0.622000  0.339250  0.171025\n",
      "4634  zmQxM32PWRM  0.094044  0.702816  0.203140  0.185356\n",
      "4635  zmeTsRQ6STE  0.024581  0.785129  0.158032  0.361348\n",
      "4636  zmfxl2oQGqI  0.041938  0.819250  0.138750  0.280056\n",
      "4637  zmr1iSG3RTA  0.107742  0.739554  0.152699  0.122774\n",
      "4638  zmsly1UOeMk  0.083215  0.715868  0.200917  0.186030\n",
      "4639  znESQTt3L80  0.043357  0.747315  0.203375  0.266802\n",
      "4640  znZx1T5d68Q  0.003654  0.844038  0.152269  0.259623\n",
      "4641  zqp-aSPqQYc  0.050429  0.765195  0.171403  0.248162\n",
      "4642  zqxYhLe-vcs  0.052000  0.889000  0.059000  0.055260\n",
      "4643  zr7YfmdIDjU  0.000000  1.000000  0.000000  0.000000\n",
      "4644  zrMuDl7vaTI  0.000000  0.751500  0.248500  0.681250\n",
      "4645  zrfOOZWK49o  0.074642  0.784358  0.141000  0.160608\n",
      "4646  zrnNbHRudWo  0.086000  0.755629  0.158371  0.188637\n",
      "4647  zs4mg5EmoHk  0.069000  0.744000  0.187000  0.474750\n",
      "4648  zsRnQQpklPM  0.101731  0.729247  0.168978  0.117859\n",
      "4649  zsgrsiZoymA  0.016619  0.587667  0.395810  0.460248\n",
      "4650  ztJuuYFnD1k  0.063286  0.735286  0.201286  0.292371\n",
      "4651  ztzHqBTaPgw  0.005687  0.880125  0.114187  0.180450\n",
      "4652  zuTCN-o6o2A  0.084365  0.782654  0.132962  0.086360\n",
      "4653  zwW0mr9K9L4  0.000000  0.744333  0.255667  0.366700\n",
      "4654  zy6K6lViBcE  0.009600  0.540000  0.450400  0.813580\n",
      "4655  zyjSfUtDnU4  0.087800  0.697900  0.214200  0.087810\n"
     ]
    }
   ],
   "source": [
    "import pandas as pd\n",
    "from nltk.sentiment.vader import SentimentIntensityAnalyzer\n",
    "import warnings\n",
    "\n",
    "# Initialize VADER sentiment intensity analyzer\n",
    "sia = SentimentIntensityAnalyzer()\n",
    "\n",
    "# Try to read the CSV file with additional parameters\n",
    "try:\n",
    "    df = pd.read_csv('/Users/salmanmohamm3d/Desktop/Social M A/video_comments_7K(1).csv', sep=',', on_bad_lines='skip')\n",
    "except pd.errors.ParserError:\n",
    "    print(\"Error reading the CSV file. Please check the file format.\")\n",
    "\n",
    "# Ensure all comments are strings\n",
    "df['comment'] = df['comment'].astype(str)\n",
    "\n",
    "# Define a function for sentiment analysis\n",
    "def sentiment_analysis(comment):\n",
    "    return sia.polarity_scores(comment)\n",
    "\n",
    "# Apply sentiment analysis to each comment\n",
    "df['sentiment'] = df['comment'].apply(sentiment_analysis)\n",
    "\n",
    "# Extract sentiment scores\n",
    "df['neg'] = df['sentiment'].apply(lambda x: x['neg'])\n",
    "df['neu'] = df['sentiment'].apply(lambda x: x['neu'])\n",
    "df['pos'] = df['sentiment'].apply(lambda x: x['pos'])\n",
    "df['compound'] = df['sentiment'].apply(lambda x: x['compound'])\n",
    "\n",
    "# Group by video_id and calculate the mean sentiment scores for each video_id\n",
    "aggregated_df = df.groupby('video_id').agg({\n",
    "    'neg': 'mean',\n",
    "    'neu': 'mean',\n",
    "    'pos': 'mean',\n",
    "    'compound': 'mean'\n",
    "}).reset_index()\n",
    "\n",
    "# Display the aggregated DataFrame with sentiment scores\n",
    "print(aggregated_df.tail(50))\n"
   ]
  },
  {
   "cell_type": "code",
   "execution_count": 97,
   "id": "17d1e747-7961-4fd7-bdb2-11601dc4b6cb",
   "metadata": {},
   "outputs": [
    {
     "name": "stdout",
     "output_type": "stream",
     "text": [
      "                                            video_id       neg       neu  \\\n",
      "0                                          1941-2019  0.000000  1.000000   \n",
      "1   : Lyrics by Salvatore Quasimodo - Music by Ja...  0.000000  1.000000   \n",
      "2   but standalone story so that audience can eas...  0.000000  1.000000   \n",
      "3   have died of drug overdose or suicide. This m...  0.000000  1.000000   \n",
      "4                                      is a legend .  0.000000  1.000000   \n",
      "5                sounds like Severus Snape here? -_-  0.000000  1.000000   \n",
      "6                                             #NAME?  0.077199  0.748677   \n",
      "7                                        -0BhquO1wk4  0.078565  0.768435   \n",
      "8                                        -0Ri8ogJ8q8  0.013500  0.863000   \n",
      "9                                        -1H-jUBb8_0  0.060000  0.401500   \n",
      "\n",
      "        pos  compound  group  \n",
      "0  0.000000  0.000000      0  \n",
      "1  0.000000  0.000000      1  \n",
      "2  0.000000  0.000000      2  \n",
      "3  0.000000  0.000000      3  \n",
      "4  0.000000  0.000000      4  \n",
      "5  0.000000  0.000000      5  \n",
      "6  0.172114  0.156482      6  \n",
      "7  0.152957  0.216700      7  \n",
      "8  0.123500  0.218700      8  \n",
      "9  0.538500  0.317400      9  \n"
     ]
    }
   ],
   "source": [
    "# Display the aggregated DataFrame with sentiment scores and video_id\n",
    "print(aggregated_df.head(10))\n"
   ]
  },
  {
   "cell_type": "code",
   "execution_count": 98,
   "id": "70a076ee-a28a-4fbc-ba79-ab80cd71979a",
   "metadata": {},
   "outputs": [
    {
     "name": "stdout",
     "output_type": "stream",
     "text": [
      "                                             video_id       neg       neu  \\\n",
      "0                                           1941-2019  0.000000  1.000000   \n",
      "1    : Lyrics by Salvatore Quasimodo - Music by Ja...  0.000000  1.000000   \n",
      "2    but standalone story so that audience can eas...  0.000000  1.000000   \n",
      "3    have died of drug overdose or suicide. This m...  0.000000  1.000000   \n",
      "4                                       is a legend .  0.000000  1.000000   \n",
      "..                                                ...       ...       ...   \n",
      "95                                        12WdOsJJSM8  0.060333  0.647833   \n",
      "96                                        12im374_Rck  0.000000  0.211500   \n",
      "97                                        14gyU53hMJk  0.111374  0.694404   \n",
      "98                                        15s4Y9ffW_o  0.057784  0.818817   \n",
      "99                                        167URLa-On0  0.060710  0.773253   \n",
      "\n",
      "         pos  compound  group  \n",
      "0   0.000000  0.000000      0  \n",
      "1   0.000000  0.000000      1  \n",
      "2   0.000000  0.000000      2  \n",
      "3   0.000000  0.000000      3  \n",
      "4   0.000000  0.000000      4  \n",
      "..       ...       ...    ...  \n",
      "95  0.291833  0.360683     95  \n",
      "96  0.788500  0.471550     96  \n",
      "97  0.188409  0.119775     97  \n",
      "98  0.121748  0.101636     98  \n",
      "99  0.166037  0.198117     99  \n",
      "\n",
      "[100 rows x 6 columns]\n"
     ]
    }
   ],
   "source": [
    "# Add a column specifying the group each video_id belongs to\n",
    "aggregated_df['group'] = aggregated_df.groupby('video_id').ngroup()\n",
    "\n",
    "# Display the aggregated DataFrame with sentiment scores, video_id, and group\n",
    "print(aggregated_df.head(100))\n",
    "\n",
    "\n",
    "\n",
    "\n",
    "\n"
   ]
  },
  {
   "cell_type": "code",
   "execution_count": 99,
   "id": "d54fb9a4-c96e-4416-b9f7-e2eb54ded911",
   "metadata": {},
   "outputs": [
    {
     "name": "stdout",
     "output_type": "stream",
     "text": [
      "         video_id       neg      neu       pos  compound  group\n",
      "4071  sDQjTZvVXWU  0.052373  0.79802  0.149588  0.172967   4071\n"
     ]
    }
   ],
   "source": [
    "\n",
    "filtered_rows = aggregated_df[aggregated_df['group'] == 4071]\n",
    "print(filtered_rows)"
   ]
  },
  {
   "cell_type": "code",
   "execution_count": 78,
   "id": "2bd6e00a-fd41-4c9d-b25d-b7ea820ccfa7",
   "metadata": {},
   "outputs": [
    {
     "name": "stdout",
     "output_type": "stream",
     "text": [
      "         video_id       neg       neu       pos  compound  group\n",
      "4636  zmfxl2oQGqI  0.041938  0.819250  0.138750  0.280056   4636\n",
      "4637  zmr1iSG3RTA  0.107742  0.739554  0.152699  0.122774   4637\n",
      "4638  zmsly1UOeMk  0.083215  0.715868  0.200917  0.186030   4638\n",
      "4639  znESQTt3L80  0.043357  0.747315  0.203375  0.266802   4639\n",
      "4640  znZx1T5d68Q  0.003654  0.844038  0.152269  0.259623   4640\n",
      "4641  zqp-aSPqQYc  0.050429  0.765195  0.171403  0.248162   4641\n",
      "4642  zqxYhLe-vcs  0.052000  0.889000  0.059000  0.055260   4642\n",
      "4643  zr7YfmdIDjU  0.000000  1.000000  0.000000  0.000000   4643\n",
      "4644  zrMuDl7vaTI  0.000000  0.751500  0.248500  0.681250   4644\n",
      "4645  zrfOOZWK49o  0.074642  0.784358  0.141000  0.160608   4645\n",
      "4646  zrnNbHRudWo  0.086000  0.755629  0.158371  0.188637   4646\n",
      "4647  zs4mg5EmoHk  0.069000  0.744000  0.187000  0.474750   4647\n",
      "4648  zsRnQQpklPM  0.101731  0.729247  0.168978  0.117859   4648\n",
      "4649  zsgrsiZoymA  0.016619  0.587667  0.395810  0.460248   4649\n",
      "4650  ztJuuYFnD1k  0.063286  0.735286  0.201286  0.292371   4650\n",
      "4651  ztzHqBTaPgw  0.005687  0.880125  0.114187  0.180450   4651\n",
      "4652  zuTCN-o6o2A  0.084365  0.782654  0.132962  0.086360   4652\n",
      "4653  zwW0mr9K9L4  0.000000  0.744333  0.255667  0.366700   4653\n",
      "4654  zy6K6lViBcE  0.009600  0.540000  0.450400  0.813580   4654\n",
      "4655  zyjSfUtDnU4  0.087800  0.697900  0.214200  0.087810   4655\n"
     ]
    }
   ],
   "source": [
    "print(aggregated_df.tail(20))"
   ]
  },
  {
   "cell_type": "code",
   "execution_count": null,
   "id": "adade66a-f4d5-4946-94ac-26b2f98a7cb1",
   "metadata": {},
   "outputs": [],
   "source": []
  },
  {
   "cell_type": "code",
   "execution_count": null,
   "id": "304b030d-01af-48e4-b4bf-d08aaeb7567d",
   "metadata": {},
   "outputs": [],
   "source": []
  },
  {
   "cell_type": "markdown",
   "id": "2b91ab82-5b53-4463-ba56-cfa53b05633f",
   "metadata": {},
   "source": [
    "### Creating a DataFrame with video_id and group"
   ]
  },
  {
   "cell_type": "code",
   "execution_count": 102,
   "id": "19535ee7-ffdf-4017-8fb1-f92b5716d0ea",
   "metadata": {},
   "outputs": [
    {
     "name": "stdout",
     "output_type": "stream",
     "text": [
      "         video_id   group\n",
      "0     rEnOoWs3FuA  4012.0\n",
      "1     2GfZl4kuVNI   187.0\n",
      "2     lcOqUE0u1LM  3603.0\n",
      "3     UrC75wUKoFM  2344.0\n",
      "4     tVdn8JH91Dg  4174.0\n",
      "...           ...     ...\n",
      "4652  gfeeXQSSjfU  3252.0\n",
      "4653  msVH7dZkB8o  3682.0\n",
      "4654  qQjlxQYp4BY  3956.0\n",
      "4655  21yOw2QvtS4   170.0\n",
      "4656  sDQjTZvVXWU  4071.0\n",
      "\n",
      "[4657 rows x 2 columns]\n"
     ]
    }
   ],
   "source": [
    "import pandas as pd\n",
    "\n",
    "# Try to read the CSV file with additional parameters\n",
    "try:\n",
    "    df = pd.read_csv('/Users/salmanmohamm3d/Desktop/Social M A/video_comments_7K(1).csv', sep=',', on_bad_lines='skip')\n",
    "except pd.errors.ParserError:\n",
    "    print(\"Error reading the CSV file. Please check the file format.\")\n",
    "\n",
    "# Group by video_id and assign group numbers\n",
    "grouped_df = df.groupby('video_id').ngroup()\n",
    "\n",
    "\n",
    "result_df = pd.DataFrame({'video_id': df['video_id'].unique(), 'group': grouped_df.unique()})\n",
    "\n",
    "# Display the result DataFrame\n",
    "print(result_df)\n",
    "\n"
   ]
  },
  {
   "cell_type": "markdown",
   "id": "f4c14e46-126c-4e7c-858f-7b73a7071a52",
   "metadata": {},
   "source": [
    "### Rearranging group values in ascending order"
   ]
  },
  {
   "cell_type": "code",
   "execution_count": 100,
   "id": "953a0e1e-c479-4a83-93e7-a8f391bd5712",
   "metadata": {},
   "outputs": [
    {
     "name": "stdout",
     "output_type": "stream",
     "text": [
      "                                               video_id   group\n",
      "1334                                          1941-2019     0.0\n",
      "1047   : Lyrics by Salvatore Quasimodo - Music by Ja...     1.0\n",
      "2430   but standalone story so that audience can eas...     2.0\n",
      "117    have died of drug overdose or suicide. This m...     3.0\n",
      "1021                                      is a legend .     4.0\n",
      "...                                                 ...     ...\n",
      "3295                                        zuTCN-o6o2A  4652.0\n",
      "4515                                        zwW0mr9K9L4  4653.0\n",
      "2725                                        zy6K6lViBcE  4654.0\n",
      "2008                                        zyjSfUtDnU4  4655.0\n",
      "456                                                 NaN     NaN\n",
      "\n",
      "[4657 rows x 2 columns]\n"
     ]
    }
   ],
   "source": [
    "result_df = result_df.sort_values(by='group')\n",
    "print(result_df)"
   ]
  },
  {
   "cell_type": "markdown",
   "id": "4678936b-42d6-403a-9a2e-37fbb8d37290",
   "metadata": {},
   "source": [
    "### Checking for NaN values"
   ]
  },
  {
   "cell_type": "code",
   "execution_count": 101,
   "id": "ecd3c3fd-1975-4c50-bf97-35b94b72972c",
   "metadata": {},
   "outputs": [
    {
     "name": "stdout",
     "output_type": "stream",
     "text": [
      "    video_id  group\n",
      "456      NaN    NaN\n"
     ]
    }
   ],
   "source": [
    "nan_values = result_df[result_df.isna().any(axis=1)]\n",
    "print(nan_values)"
   ]
  },
  {
   "cell_type": "code",
   "execution_count": null,
   "id": "166b63aa-4047-408b-8e83-7fa09c970d6c",
   "metadata": {},
   "outputs": [],
   "source": []
  },
  {
   "cell_type": "code",
   "execution_count": null,
   "id": "650ee0be-a169-4cb5-8f19-6ff7f7d55a9a",
   "metadata": {},
   "outputs": [],
   "source": []
  },
  {
   "cell_type": "markdown",
   "id": "149bd8ba-90bb-4661-8c36-a9f3eb1dc60f",
   "metadata": {},
   "source": [
    "# top10 videos that have the highest positive sentiment scores"
   ]
  },
  {
   "cell_type": "code",
   "execution_count": 96,
   "id": "8b0b4c66-edce-4fda-93f9-f9aaaf44874e",
   "metadata": {},
   "outputs": [
    {
     "data": {
      "image/png": "[encoded data removed]",
      "text/plain": [
       "<Figure size 1200x600 with 1 Axes>"
      ]
     },
     "metadata": {},
     "output_type": "display_data"
    }
   ],
   "source": [
    "import matplotlib.pyplot as plt\n",
    "\n",
    "# Sort the DataFrame by the 'pos' column in descending order\n",
    "sorted_df = aggregated_df.sort_values(by='pos', ascending=False)\n",
    "\n",
    "# Select the top 10 rows with the highest positive sentiment scores\n",
    "top_10_pos = sorted_df.head(10)\n",
    "\n",
    "# Create a bar plot\n",
    "fig, ax = plt.subplots(figsize=(12, 6))\n",
    "ax.bar(top_10_pos['video_id'], top_10_pos['pos'])\n",
    "\n",
    "# Set the title and axis labels\n",
    "ax.set_title('Top 10 Videos with Highest Positive Sentiment Scores', fontsize=16)\n",
    "ax.set_xlabel('Video ID', fontsize=14)\n",
    "ax.set_ylabel('Positive Sentiment Score', fontsize=14)\n",
    "\n",
    "# Rotate the x-axis labels for better visibility\n",
    "plt.xticks(rotation=90)\n",
    "\n",
    "# Display the plot\n",
    "plt.tight_layout()\n",
    "plt.show()\n"
   ]
  },
  {
   "cell_type": "code",
   "execution_count": null,
   "id": "95ce9a62-9b23-4608-950f-a5fd8617aed1",
   "metadata": {},
   "outputs": [],
   "source": []
  },
  {
   "cell_type": "code",
   "execution_count": null,
   "id": "2d0b5b47-ab5b-4623-ad83-270cccfbc3ac",
   "metadata": {},
   "outputs": [],
   "source": []
  },
  {
   "cell_type": "code",
   "execution_count": 2,
   "id": "64575bd9-eafd-4304-9185-c8108d5a331b",
   "metadata": {},
   "outputs": [],
   "source": [
    "import pandas as pd\n"
   ]
  },
  {
   "cell_type": "code",
   "execution_count": 3,
   "id": "84665258-9e1f-44c1-a32c-7bd16139db4f",
   "metadata": {},
   "outputs": [],
   "source": [
    "df  =  pd.read_csv('/Users/salmanmohamm3d/Desktop/Social M A/video_comments_8k_title.csv')"
   ]
  },
  {
   "cell_type": "code",
   "execution_count": 6,
   "id": "6edebafe-a16b-461b-aa28-26be9793961c",
   "metadata": {},
   "outputs": [
    {
     "data": {
      "text/html": [
       "<div>\n",
       "<style scoped>\n",
       "    .dataframe tbody tr th:only-of-type {\n",
       "        vertical-align: middle;\n",
       "    }\n",
       "\n",
       "    .dataframe tbody tr th {\n",
       "        vertical-align: top;\n",
       "    }\n",
       "\n",
       "    .dataframe thead th {\n",
       "        text-align: right;\n",
       "    }\n",
       "</style>\n",
       "<table border=\"1\" class=\"dataframe\">\n",
       "  <thead>\n",
       "    <tr style=\"text-align: right;\">\n",
       "      <th></th>\n",
       "      <th>video_id</th>\n",
       "      <th>title</th>\n",
       "      <th>comment</th>\n",
       "    </tr>\n",
       "  </thead>\n",
       "  <tbody>\n",
       "    <tr>\n",
       "      <th>0</th>\n",
       "      <td>rEnOoWs3FuA</td>\n",
       "      <td>Grumpier Old Men (1995)</td>\n",
       "      <td>Buena película de comedia romántica</td>\n",
       "    </tr>\n",
       "    <tr>\n",
       "      <th>1</th>\n",
       "      <td>rEnOoWs3FuA</td>\n",
       "      <td>Grumpier Old Men (1995)</td>\n",
       "      <td>&lt;a href=\"https://www.youtube.com/watch?v=rEnOo...</td>\n",
       "    </tr>\n",
       "    <tr>\n",
       "      <th>2</th>\n",
       "      <td>rEnOoWs3FuA</td>\n",
       "      <td>Grumpier Old Men (1995)</td>\n",
       "      <td>I&amp;#39;m watching this now, it never gets old🤣</td>\n",
       "    </tr>\n",
       "    <tr>\n",
       "      <th>3</th>\n",
       "      <td>rEnOoWs3FuA</td>\n",
       "      <td>Grumpier Old Men (1995)</td>\n",
       "      <td>Canaloni !!!!</td>\n",
       "    </tr>\n",
       "    <tr>\n",
       "      <th>4</th>\n",
       "      <td>rEnOoWs3FuA</td>\n",
       "      <td>Grumpier Old Men (1995)</td>\n",
       "      <td>I was looking for halloween themed movies and ...</td>\n",
       "    </tr>\n",
       "    <tr>\n",
       "      <th>...</th>\n",
       "      <td>...</td>\n",
       "      <td>...</td>\n",
       "      <td>...</td>\n",
       "    </tr>\n",
       "    <tr>\n",
       "      <th>95</th>\n",
       "      <td>2GfZl4kuVNI</td>\n",
       "      <td>Heat (1995)</td>\n",
       "      <td>Michael Mann Pudo Inquietarnos con esa escena ...</td>\n",
       "    </tr>\n",
       "    <tr>\n",
       "      <th>96</th>\n",
       "      <td>2GfZl4kuVNI</td>\n",
       "      <td>Heat (1995)</td>\n",
       "      <td>من طرف فايز بن جريس 🥰</td>\n",
       "    </tr>\n",
       "    <tr>\n",
       "      <th>97</th>\n",
       "      <td>2GfZl4kuVNI</td>\n",
       "      <td>Heat (1995)</td>\n",
       "      <td>Co stars to Michael Mann: you don’t have to pa...</td>\n",
       "    </tr>\n",
       "    <tr>\n",
       "      <th>98</th>\n",
       "      <td>2GfZl4kuVNI</td>\n",
       "      <td>Heat (1995)</td>\n",
       "      <td>Hands down the greatest character based movie ...</td>\n",
       "    </tr>\n",
       "    <tr>\n",
       "      <th>99</th>\n",
       "      <td>2GfZl4kuVNI</td>\n",
       "      <td>Heat (1995)</td>\n",
       "      <td>Gta v</td>\n",
       "    </tr>\n",
       "  </tbody>\n",
       "</table>\n",
       "<p>100 rows × 3 columns</p>\n",
       "</div>"
      ],
      "text/plain": [
       "       video_id                    title  \\\n",
       "0   rEnOoWs3FuA  Grumpier Old Men (1995)   \n",
       "1   rEnOoWs3FuA  Grumpier Old Men (1995)   \n",
       "2   rEnOoWs3FuA  Grumpier Old Men (1995)   \n",
       "3   rEnOoWs3FuA  Grumpier Old Men (1995)   \n",
       "4   rEnOoWs3FuA  Grumpier Old Men (1995)   \n",
       "..          ...                      ...   \n",
       "95  2GfZl4kuVNI              Heat (1995)   \n",
       "96  2GfZl4kuVNI              Heat (1995)   \n",
       "97  2GfZl4kuVNI              Heat (1995)   \n",
       "98  2GfZl4kuVNI              Heat (1995)   \n",
       "99  2GfZl4kuVNI              Heat (1995)   \n",
       "\n",
       "                                              comment  \n",
       "0                 Buena película de comedia romántica  \n",
       "1   <a href=\"https://www.youtube.com/watch?v=rEnOo...  \n",
       "2       I&#39;m watching this now, it never gets old🤣  \n",
       "3                                       Canaloni !!!!  \n",
       "4   I was looking for halloween themed movies and ...  \n",
       "..                                                ...  \n",
       "95  Michael Mann Pudo Inquietarnos con esa escena ...  \n",
       "96                              من طرف فايز بن جريس 🥰  \n",
       "97  Co stars to Michael Mann: you don’t have to pa...  \n",
       "98  Hands down the greatest character based movie ...  \n",
       "99                                              Gta v  \n",
       "\n",
       "[100 rows x 3 columns]"
      ]
     },
     "execution_count": 6,
     "metadata": {},
     "output_type": "execute_result"
    }
   ],
   "source": [
    "df.head(100)"
   ]
  },
  {
   "cell_type": "code",
   "execution_count": 13,
   "id": "b9fcbccb-2f15-473f-9b5d-baf412d8f548",
   "metadata": {},
   "outputs": [
    {
     "name": "stdout",
     "output_type": "stream",
     "text": [
      "           video_id                    title  \\\n",
      "0       rEnOoWs3FuA  Grumpier Old Men (1995)   \n",
      "1       rEnOoWs3FuA  Grumpier Old Men (1995)   \n",
      "2       rEnOoWs3FuA  Grumpier Old Men (1995)   \n",
      "3       rEnOoWs3FuA  Grumpier Old Men (1995)   \n",
      "4       rEnOoWs3FuA  Grumpier Old Men (1995)   \n",
      "...             ...                      ...   \n",
      "362321  QEcTjhUN_7U      Safety Last! (1923)   \n",
      "362322  QEcTjhUN_7U      Safety Last! (1923)   \n",
      "362323  QEcTjhUN_7U      Safety Last! (1923)   \n",
      "362324  QEcTjhUN_7U      Safety Last! (1923)   \n",
      "362325  QEcTjhUN_7U      Safety Last! (1923)   \n",
      "\n",
      "                                                  comment  neg    neu    pos  \\\n",
      "0                     Buena película de comedia romántica  0.0  1.000  0.000   \n",
      "1       <a href=\"https://www.youtube.com/watch?v=rEnOo...  0.0  1.000  0.000   \n",
      "2           I&#39;m watching this now, it never gets old🤣  0.0  1.000  0.000   \n",
      "3                                           Canaloni !!!!  0.0  1.000  0.000   \n",
      "4       I was looking for halloween themed movies and ...  0.0  1.000  0.000   \n",
      "...                                                   ...  ...    ...    ...   \n",
      "362321                  awesome clip. lovely music too :)  0.0  0.216  0.784   \n",
      "362322  Aww thanks.  Because I edited the movie itself...  0.0  0.838  0.162   \n",
      "362323                                           Awesome!  0.0  0.000  1.000   \n",
      "362324                      excellent sequence. masterful  0.0  0.351  0.649   \n",
      "362325                             Aww yay thanks!!!  :o)  0.0  0.089  0.911   \n",
      "\n",
      "        compound  \n",
      "0         0.0000  \n",
      "1         0.0000  \n",
      "2         0.0000  \n",
      "3         0.0000  \n",
      "4         0.0000  \n",
      "...          ...  \n",
      "362321    0.8979  \n",
      "362322    0.4404  \n",
      "362323    0.6588  \n",
      "362324    0.5719  \n",
      "362325    0.8827  \n",
      "\n",
      "[362326 rows x 7 columns]\n"
     ]
    }
   ],
   "source": [
    "import pandas as pd\n",
    "from nltk.sentiment.vader import SentimentIntensityAnalyzer\n",
    "import warnings\n",
    "\n",
    "# Initialize VADER sentiment intensity analyzer\n",
    "sia = SentimentIntensityAnalyzer()\n",
    "\n",
    "# Try to read the CSV file with additional parameters\n",
    "try:\n",
    "    df = pd.read_csv('/Users/salmanmohamm3d/Desktop/Social M A/video_comments_8k_title.csv')\n",
    "except pd.errors.ParserError:\n",
    "    print(\"Error reading the CSV file. Please check the file format.\")\n",
    "\n",
    "# Ensure all comments are strings\n",
    "df['comment'] = df['comment'].astype(str)\n",
    "\n",
    "# Define a function for sentiment analysis\n",
    "def sentiment_analysis(comment):\n",
    "    return sia.polarity_scores(comment)\n",
    "\n",
    "# Apply sentiment analysis to each comment\n",
    "df['sentiment'] = df['comment'].apply(sentiment_analysis)\n",
    "\n",
    "# Extract sentiment scores\n",
    "df['neg'] = df['sentiment'].apply(lambda x: x['neg'])\n",
    "df['neu'] = df['sentiment'].apply(lambda x: x['neu'])\n",
    "df['pos'] = df['sentiment'].apply(lambda x: x['pos'])\n",
    "df['compound'] = df['sentiment'].apply(lambda x: x['compound'])\n",
    "\n",
    "# Display the DataFrame with sentiment scores and video_id\n",
    "print(df[['video_id','title', 'comment', 'neg', 'neu', 'pos', 'compound']])\n"
   ]
  },
  {
   "cell_type": "code",
   "execution_count": 15,
   "id": "fd36f000-b183-47a3-8e73-e588162d1fc3",
   "metadata": {},
   "outputs": [
    {
     "data": {
      "text/html": [
       "<div>\n",
       "<style scoped>\n",
       "    .dataframe tbody tr th:only-of-type {\n",
       "        vertical-align: middle;\n",
       "    }\n",
       "\n",
       "    .dataframe tbody tr th {\n",
       "        vertical-align: top;\n",
       "    }\n",
       "\n",
       "    .dataframe thead th {\n",
       "        text-align: right;\n",
       "    }\n",
       "</style>\n",
       "<table border=\"1\" class=\"dataframe\">\n",
       "  <thead>\n",
       "    <tr style=\"text-align: right;\">\n",
       "      <th></th>\n",
       "      <th>video_id</th>\n",
       "      <th>title</th>\n",
       "      <th>neg</th>\n",
       "      <th>neu</th>\n",
       "      <th>pos</th>\n",
       "      <th>compound</th>\n",
       "    </tr>\n",
       "  </thead>\n",
       "  <tbody>\n",
       "    <tr>\n",
       "      <th>0</th>\n",
       "      <td>#NAME?</td>\n",
       "      <td>200 Cigarettes (1999)</td>\n",
       "      <td>0.055000</td>\n",
       "      <td>0.777486</td>\n",
       "      <td>0.167541</td>\n",
       "      <td>0.227376</td>\n",
       "    </tr>\n",
       "    <tr>\n",
       "      <th>1</th>\n",
       "      <td>#NAME?</td>\n",
       "      <td>Alien: Resurrection (1997)</td>\n",
       "      <td>0.115361</td>\n",
       "      <td>0.722340</td>\n",
       "      <td>0.162257</td>\n",
       "      <td>0.083499</td>\n",
       "    </tr>\n",
       "    <tr>\n",
       "      <th>2</th>\n",
       "      <td>#NAME?</td>\n",
       "      <td>Alien³ (a.k.a. Alien 3) (1992)</td>\n",
       "      <td>0.114167</td>\n",
       "      <td>0.785500</td>\n",
       "      <td>0.100333</td>\n",
       "      <td>0.015575</td>\n",
       "    </tr>\n",
       "    <tr>\n",
       "      <th>3</th>\n",
       "      <td>#NAME?</td>\n",
       "      <td>Amazing Grace and Chuck (1987)</td>\n",
       "      <td>0.051294</td>\n",
       "      <td>0.768294</td>\n",
       "      <td>0.180471</td>\n",
       "      <td>0.128876</td>\n",
       "    </tr>\n",
       "    <tr>\n",
       "      <th>4</th>\n",
       "      <td>#NAME?</td>\n",
       "      <td>American Ninja 2: The Confrontation (1987)</td>\n",
       "      <td>0.092267</td>\n",
       "      <td>0.807800</td>\n",
       "      <td>0.099933</td>\n",
       "      <td>-0.012493</td>\n",
       "    </tr>\n",
       "    <tr>\n",
       "      <th>...</th>\n",
       "      <td>...</td>\n",
       "      <td>...</td>\n",
       "      <td>...</td>\n",
       "      <td>...</td>\n",
       "      <td>...</td>\n",
       "      <td>...</td>\n",
       "    </tr>\n",
       "    <tr>\n",
       "      <th>95</th>\n",
       "      <td>0ZI67ux7aJY</td>\n",
       "      <td>How to Lose a Guy in 10 Days (2003)</td>\n",
       "      <td>0.064217</td>\n",
       "      <td>0.683957</td>\n",
       "      <td>0.251841</td>\n",
       "      <td>0.283858</td>\n",
       "    </tr>\n",
       "    <tr>\n",
       "      <th>96</th>\n",
       "      <td>0a-E4Q9CHSk</td>\n",
       "      <td>Summer of Sam (1999)</td>\n",
       "      <td>0.098388</td>\n",
       "      <td>0.734914</td>\n",
       "      <td>0.166729</td>\n",
       "      <td>0.096387</td>\n",
       "    </tr>\n",
       "    <tr>\n",
       "      <th>97</th>\n",
       "      <td>0axnlV3jAFc</td>\n",
       "      <td>Hard Way, The (1991)</td>\n",
       "      <td>0.039256</td>\n",
       "      <td>0.733846</td>\n",
       "      <td>0.226923</td>\n",
       "      <td>0.384590</td>\n",
       "    </tr>\n",
       "    <tr>\n",
       "      <th>98</th>\n",
       "      <td>0b3WZ2K473s</td>\n",
       "      <td>Police Academy 2: Their First Assignment (1985)</td>\n",
       "      <td>0.012625</td>\n",
       "      <td>0.784208</td>\n",
       "      <td>0.161500</td>\n",
       "      <td>0.231650</td>\n",
       "    </tr>\n",
       "    <tr>\n",
       "      <th>99</th>\n",
       "      <td>0bBhEciISaY</td>\n",
       "      <td>Other Voices, Other Rooms (1995)</td>\n",
       "      <td>0.000000</td>\n",
       "      <td>0.845333</td>\n",
       "      <td>0.154667</td>\n",
       "      <td>0.350767</td>\n",
       "    </tr>\n",
       "  </tbody>\n",
       "</table>\n",
       "<p>100 rows × 6 columns</p>\n",
       "</div>"
      ],
      "text/plain": [
       "       video_id                                            title       neg  \\\n",
       "0        #NAME?                            200 Cigarettes (1999)  0.055000   \n",
       "1        #NAME?                       Alien: Resurrection (1997)  0.115361   \n",
       "2        #NAME?                   Alien³ (a.k.a. Alien 3) (1992)  0.114167   \n",
       "3        #NAME?                   Amazing Grace and Chuck (1987)  0.051294   \n",
       "4        #NAME?       American Ninja 2: The Confrontation (1987)  0.092267   \n",
       "..          ...                                              ...       ...   \n",
       "95  0ZI67ux7aJY              How to Lose a Guy in 10 Days (2003)  0.064217   \n",
       "96  0a-E4Q9CHSk                             Summer of Sam (1999)  0.098388   \n",
       "97  0axnlV3jAFc                             Hard Way, The (1991)  0.039256   \n",
       "98  0b3WZ2K473s  Police Academy 2: Their First Assignment (1985)  0.012625   \n",
       "99  0bBhEciISaY                 Other Voices, Other Rooms (1995)  0.000000   \n",
       "\n",
       "         neu       pos  compound  \n",
       "0   0.777486  0.167541  0.227376  \n",
       "1   0.722340  0.162257  0.083499  \n",
       "2   0.785500  0.100333  0.015575  \n",
       "3   0.768294  0.180471  0.128876  \n",
       "4   0.807800  0.099933 -0.012493  \n",
       "..       ...       ...       ...  \n",
       "95  0.683957  0.251841  0.283858  \n",
       "96  0.734914  0.166729  0.096387  \n",
       "97  0.733846  0.226923  0.384590  \n",
       "98  0.784208  0.161500  0.231650  \n",
       "99  0.845333  0.154667  0.350767  \n",
       "\n",
       "[100 rows x 6 columns]"
      ]
     },
     "execution_count": 15,
     "metadata": {},
     "output_type": "execute_result"
    }
   ],
   "source": [
    "# Group the DataFrame by video_id and title and calculate the mean sentiment scores\n",
    "aggregated_sentiment = df.groupby(['video_id', 'title'])[['neg', 'neu', 'pos', 'compound']].mean().reset_index()\n",
    "\n",
    "# Display the aggregated sentiment scores for each video\n",
    "aggregated_sentiment.head(100)\n"
   ]
  },
  {
   "cell_type": "code",
   "execution_count": 19,
   "id": "129db6a5-88da-4a91-b913-d41153d572ce",
   "metadata": {},
   "outputs": [
    {
     "data": {
      "application/vnd.plotly.v1+json": {
       "config": {
        "plotlyServerURL": "https://plot.ly"
       },
       "data": [
        {
         "type": "bar",
         "x": [
          "KxEK8xHyAnc - Fly Away Home (1996)",
          "IDtepG8EvHE - Monty Python's And Now for Something Completely Different (1971)",
          "hZPReKHCWDg - Dangerous Game (1993)",
          "ljRVlCRjHJE - Samurai Fiction (SF: Episode One) (1998)",
          "y3at2jY5AS4 - Battle of the Sexes, The (1959)",
          "0N2BfFD1QTo - Last Metro, The (Dernier métro, Le) (1980)",
          "IVRHM-BHd4A - Mobsters (1991)",
          "GJ5bTSq2ufQ - Bloody Mama (1970)",
          "LALkkZEEUAQ - Clan of the Cave Bear, The (1986)",
          "4qO9OD_NiUQ - Camera Obscura (2000)"
         ],
         "y": [
          1,
          1,
          1,
          1,
          0.918,
          0.815,
          0.804,
          0.804,
          0.804,
          0.804
         ]
        }
       ],
       "layout": {
        "autosize": true,
        "template": {
         "data": {
          "bar": [
           {
            "error_x": {
             "color": "#2a3f5f"
            },
            "error_y": {
             "color": "#2a3f5f"
            },
            "marker": {
             "line": {
              "color": "#E5ECF6",
              "width": 0.5
             },
             "pattern": {
              "fillmode": "overlay",
              "size": 10,
              "solidity": 0.2
             }
            },
            "type": "bar"
           }
          ],
          "barpolar": [
           {
            "marker": {
             "line": {
              "color": "#E5ECF6",
              "width": 0.5
             },
             "pattern": {
              "fillmode": "overlay",
              "size": 10,
              "solidity": 0.2
             }
            },
            "type": "barpolar"
           }
          ],
          "carpet": [
           {
            "aaxis": {
             "endlinecolor": "#2a3f5f",
             "gridcolor": "white",
             "linecolor": "white",
             "minorgridcolor": "white",
             "startlinecolor": "#2a3f5f"
            },
            "baxis": {
             "endlinecolor": "#2a3f5f",
             "gridcolor": "white",
             "linecolor": "white",
             "minorgridcolor": "white",
             "startlinecolor": "#2a3f5f"
            },
            "type": "carpet"
           }
          ],
          "choropleth": [
           {
            "colorbar": {
             "outlinewidth": 0,
             "ticks": ""
            },
            "type": "choropleth"
           }
          ],
          "contour": [
           {
            "colorbar": {
             "outlinewidth": 0,
             "ticks": ""
            },
            "colorscale": [
             [
              0,
              "#0d0887"
             ],
             [
              0.1111111111111111,
              "#46039f"
             ],
             [
              0.2222222222222222,
              "#7201a8"
             ],
             [
              0.3333333333333333,
              "#9c179e"
             ],
             [
              0.4444444444444444,
              "#bd3786"
             ],
             [
              0.5555555555555556,
              "#d8576b"
             ],
             [
              0.6666666666666666,
              "#ed7953"
             ],
             [
              0.7777777777777778,
              "#fb9f3a"
             ],
             [
              0.8888888888888888,
              "#fdca26"
             ],
             [
              1,
              "#f0f921"
             ]
            ],
            "type": "contour"
           }
          ],
          "contourcarpet": [
           {
            "colorbar": {
             "outlinewidth": 0,
             "ticks": ""
            },
            "type": "contourcarpet"
           }
          ],
          "heatmap": [
           {
            "colorbar": {
             "outlinewidth": 0,
             "ticks": ""
            },
            "colorscale": [
             [
              0,
              "#0d0887"
             ],
             [
              0.1111111111111111,
              "#46039f"
             ],
             [
              0.2222222222222222,
              "#7201a8"
             ],
             [
              0.3333333333333333,
              "#9c179e"
             ],
             [
              0.4444444444444444,
              "#bd3786"
             ],
             [
              0.5555555555555556,
              "#d8576b"
             ],
             [
              0.6666666666666666,
              "#ed7953"
             ],
             [
              0.7777777777777778,
              "#fb9f3a"
             ],
             [
              0.8888888888888888,
              "#fdca26"
             ],
             [
              1,
              "#f0f921"
             ]
            ],
            "type": "heatmap"
           }
          ],
          "heatmapgl": [
           {
            "colorbar": {
             "outlinewidth": 0,
             "ticks": ""
            },
            "colorscale": [
             [
              0,
              "#0d0887"
             ],
             [
              0.1111111111111111,
              "#46039f"
             ],
             [
              0.2222222222222222,
              "#7201a8"
             ],
             [
              0.3333333333333333,
              "#9c179e"
             ],
             [
              0.4444444444444444,
              "#bd3786"
             ],
             [
              0.5555555555555556,
              "#d8576b"
             ],
             [
              0.6666666666666666,
              "#ed7953"
             ],
             [
              0.7777777777777778,
              "#fb9f3a"
             ],
             [
              0.8888888888888888,
              "#fdca26"
             ],
             [
              1,
              "#f0f921"
             ]
            ],
            "type": "heatmapgl"
           }
          ],
          "histogram": [
           {
            "marker": {
             "pattern": {
              "fillmode": "overlay",
              "size": 10,
              "solidity": 0.2
             }
            },
            "type": "histogram"
           }
          ],
          "histogram2d": [
           {
            "colorbar": {
             "outlinewidth": 0,
             "ticks": ""
            },
            "colorscale": [
             [
              0,
              "#0d0887"
             ],
             [
              0.1111111111111111,
              "#46039f"
             ],
             [
              0.2222222222222222,
              "#7201a8"
             ],
             [
              0.3333333333333333,
              "#9c179e"
             ],
             [
              0.4444444444444444,
              "#bd3786"
             ],
             [
              0.5555555555555556,
              "#d8576b"
             ],
             [
              0.6666666666666666,
              "#ed7953"
             ],
             [
              0.7777777777777778,
              "#fb9f3a"
             ],
             [
              0.8888888888888888,
              "#fdca26"
             ],
             [
              1,
              "#f0f921"
             ]
            ],
            "type": "histogram2d"
           }
          ],
          "histogram2dcontour": [
           {
            "colorbar": {
             "outlinewidth": 0,
             "ticks": ""
            },
            "colorscale": [
             [
              0,
              "#0d0887"
             ],
             [
              0.1111111111111111,
              "#46039f"
             ],
             [
              0.2222222222222222,
              "#7201a8"
             ],
             [
              0.3333333333333333,
              "#9c179e"
             ],
             [
              0.4444444444444444,
              "#bd3786"
             ],
             [
              0.5555555555555556,
              "#d8576b"
             ],
             [
              0.6666666666666666,
              "#ed7953"
             ],
             [
              0.7777777777777778,
              "#fb9f3a"
             ],
             [
              0.8888888888888888,
              "#fdca26"
             ],
             [
              1,
              "#f0f921"
             ]
            ],
            "type": "histogram2dcontour"
           }
          ],
          "mesh3d": [
           {
            "colorbar": {
             "outlinewidth": 0,
             "ticks": ""
            },
            "type": "mesh3d"
           }
          ],
          "parcoords": [
           {
            "line": {
             "colorbar": {
              "outlinewidth": 0,
              "ticks": ""
             }
            },
            "type": "parcoords"
           }
          ],
          "pie": [
           {
            "automargin": true,
            "type": "pie"
           }
          ],
          "scatter": [
           {
            "fillpattern": {
             "fillmode": "overlay",
             "size": 10,
             "solidity": 0.2
            },
            "type": "scatter"
           }
          ],
          "scatter3d": [
           {
            "line": {
             "colorbar": {
              "outlinewidth": 0,
              "ticks": ""
             }
            },
            "marker": {
             "colorbar": {
              "outlinewidth": 0,
              "ticks": ""
             }
            },
            "type": "scatter3d"
           }
          ],
          "scattercarpet": [
           {
            "marker": {
             "colorbar": {
              "outlinewidth": 0,
              "ticks": ""
             }
            },
            "type": "scattercarpet"
           }
          ],
          "scattergeo": [
           {
            "marker": {
             "colorbar": {
              "outlinewidth": 0,
              "ticks": ""
             }
            },
            "type": "scattergeo"
           }
          ],
          "scattergl": [
           {
            "marker": {
             "colorbar": {
              "outlinewidth": 0,
              "ticks": ""
             }
            },
            "type": "scattergl"
           }
          ],
          "scattermapbox": [
           {
            "marker": {
             "colorbar": {
              "outlinewidth": 0,
              "ticks": ""
             }
            },
            "type": "scattermapbox"
           }
          ],
          "scatterpolar": [
           {
            "marker": {
             "colorbar": {
              "outlinewidth": 0,
              "ticks": ""
             }
            },
            "type": "scatterpolar"
           }
          ],
          "scatterpolargl": [
           {
            "marker": {
             "colorbar": {
              "outlinewidth": 0,
              "ticks": ""
             }
            },
            "type": "scatterpolargl"
           }
          ],
          "scatterternary": [
           {
            "marker": {
             "colorbar": {
              "outlinewidth": 0,
              "ticks": ""
             }
            },
            "type": "scatterternary"
           }
          ],
          "surface": [
           {
            "colorbar": {
             "outlinewidth": 0,
             "ticks": ""
            },
            "colorscale": [
             [
              0,
              "#0d0887"
             ],
             [
              0.1111111111111111,
              "#46039f"
             ],
             [
              0.2222222222222222,
              "#7201a8"
             ],
             [
              0.3333333333333333,
              "#9c179e"
             ],
             [
              0.4444444444444444,
              "#bd3786"
             ],
             [
              0.5555555555555556,
              "#d8576b"
             ],
             [
              0.6666666666666666,
              "#ed7953"
             ],
             [
              0.7777777777777778,
              "#fb9f3a"
             ],
             [
              0.8888888888888888,
              "#fdca26"
             ],
             [
              1,
              "#f0f921"
             ]
            ],
            "type": "surface"
           }
          ],
          "table": [
           {
            "cells": {
             "fill": {
              "color": "#EBF0F8"
             },
             "line": {
              "color": "white"
             }
            },
            "header": {
             "fill": {
              "color": "#C8D4E3"
             },
             "line": {
              "color": "white"
             }
            },
            "type": "table"
           }
          ]
         },
         "layout": {
          "annotationdefaults": {
           "arrowcolor": "#2a3f5f",
           "arrowhead": 0,
           "arrowwidth": 1
          },
          "autotypenumbers": "strict",
          "coloraxis": {
           "colorbar": {
            "outlinewidth": 0,
            "ticks": ""
           }
          },
          "colorscale": {
           "diverging": [
            [
             0,
             "#8e0152"
            ],
            [
             0.1,
             "#c51b7d"
            ],
            [
             0.2,
             "#de77ae"
            ],
            [
             0.3,
             "#f1b6da"
            ],
            [
             0.4,
             "#fde0ef"
            ],
            [
             0.5,
             "#f7f7f7"
            ],
            [
             0.6,
             "#e6f5d0"
            ],
            [
             0.7,
             "#b8e186"
            ],
            [
             0.8,
             "#7fbc41"
            ],
            [
             0.9,
             "#4d9221"
            ],
            [
             1,
             "#276419"
            ]
           ],
           "sequential": [
            [
             0,
             "#0d0887"
            ],
            [
             0.1111111111111111,
             "#46039f"
            ],
            [
             0.2222222222222222,
             "#7201a8"
            ],
            [
             0.3333333333333333,
             "#9c179e"
            ],
            [
             0.4444444444444444,
             "#bd3786"
            ],
            [
             0.5555555555555556,
             "#d8576b"
            ],
            [
             0.6666666666666666,
             "#ed7953"
            ],
            [
             0.7777777777777778,
             "#fb9f3a"
            ],
            [
             0.8888888888888888,
             "#fdca26"
            ],
            [
             1,
             "#f0f921"
            ]
           ],
           "sequentialminus": [
            [
             0,
             "#0d0887"
            ],
            [
             0.1111111111111111,
             "#46039f"
            ],
            [
             0.2222222222222222,
             "#7201a8"
            ],
            [
             0.3333333333333333,
             "#9c179e"
            ],
            [
             0.4444444444444444,
             "#bd3786"
            ],
            [
             0.5555555555555556,
             "#d8576b"
            ],
            [
             0.6666666666666666,
             "#ed7953"
            ],
            [
             0.7777777777777778,
             "#fb9f3a"
            ],
            [
             0.8888888888888888,
             "#fdca26"
            ],
            [
             1,
             "#f0f921"
            ]
           ]
          },
          "colorway": [
           "#636efa",
           "#EF553B",
           "#00cc96",
           "#ab63fa",
           "#FFA15A",
           "#19d3f3",
           "#FF6692",
           "#B6E880",
           "#FF97FF",
           "#FECB52"
          ],
          "font": {
           "color": "#2a3f5f"
          },
          "geo": {
           "bgcolor": "white",
           "lakecolor": "white",
           "landcolor": "#E5ECF6",
           "showlakes": true,
           "showland": true,
           "subunitcolor": "white"
          },
          "hoverlabel": {
           "align": "left"
          },
          "hovermode": "closest",
          "mapbox": {
           "style": "light"
          },
          "paper_bgcolor": "white",
          "plot_bgcolor": "#E5ECF6",
          "polar": {
           "angularaxis": {
            "gridcolor": "white",
            "linecolor": "white",
            "ticks": ""
           },
           "bgcolor": "#E5ECF6",
           "radialaxis": {
            "gridcolor": "white",
            "linecolor": "white",
            "ticks": ""
           }
          },
          "scene": {
           "xaxis": {
            "backgroundcolor": "#E5ECF6",
            "gridcolor": "white",
            "gridwidth": 2,
            "linecolor": "white",
            "showbackground": true,
            "ticks": "",
            "zerolinecolor": "white"
           },
           "yaxis": {
            "backgroundcolor": "#E5ECF6",
            "gridcolor": "white",
            "gridwidth": 2,
            "linecolor": "white",
            "showbackground": true,
            "ticks": "",
            "zerolinecolor": "white"
           },
           "zaxis": {
            "backgroundcolor": "#E5ECF6",
            "gridcolor": "white",
            "gridwidth": 2,
            "linecolor": "white",
            "showbackground": true,
            "ticks": "",
            "zerolinecolor": "white"
           }
          },
          "shapedefaults": {
           "line": {
            "color": "#2a3f5f"
           }
          },
          "ternary": {
           "aaxis": {
            "gridcolor": "white",
            "linecolor": "white",
            "ticks": ""
           },
           "baxis": {
            "gridcolor": "white",
            "linecolor": "white",
            "ticks": ""
           },
           "bgcolor": "#E5ECF6",
           "caxis": {
            "gridcolor": "white",
            "linecolor": "white",
            "ticks": ""
           }
          },
          "title": {
           "x": 0.05
          },
          "xaxis": {
           "automargin": true,
           "gridcolor": "white",
           "linecolor": "white",
           "ticks": "",
           "title": {
            "standoff": 15
           },
           "zerolinecolor": "white",
           "zerolinewidth": 2
          },
          "yaxis": {
           "automargin": true,
           "gridcolor": "white",
           "linecolor": "white",
           "ticks": "",
           "title": {
            "standoff": 15
           },
           "zerolinecolor": "white",
           "zerolinewidth": 2
          }
         }
        },
        "title": {
         "text": "Top-10 Videos with Highest Positive Sentiment Scores"
        },
        "xaxis": {
         "autorange": true,
         "range": [
          -0.5,
          9.5
         ],
         "title": {
          "text": "Video ID - Title"
         },
         "type": "category"
        },
        "yaxis": {
         "autorange": true,
         "range": [
          0,
          1.0526315789473684
         ],
         "title": {
          "text": "Positive Sentiment Score"
         },
         "type": "linear"
        }
       }
      },
      "image/png": "[encoded data removed]",
      "text/html": [
       "<div>                            <div id=\"37c82777-49ae-49b6-a045-ab4396a5e1cf\" class=\"plotly-graph-div\" style=\"height:525px; width:100%;\"></div>            <script type=\"text/javascript\">                require([\"plotly\"], function(Plotly) {                    window.PLOTLYENV=window.PLOTLYENV || {};                                    if (document.getElementById(\"37c82777-49ae-49b6-a045-ab4396a5e1cf\")) {                    Plotly.newPlot(                        \"37c82777-49ae-49b6-a045-ab4396a5e1cf\",                        [{\"x\":[\"KxEK8xHyAnc - Fly Away Home (1996)\",\"IDtepG8EvHE - Monty Python's And Now for Something Completely Different (1971)\",\"hZPReKHCWDg - Dangerous Game (1993)\",\"ljRVlCRjHJE - Samurai Fiction (SF: Episode One) (1998)\",\"y3at2jY5AS4 - Battle of the Sexes, The (1959)\",\"0N2BfFD1QTo - Last Metro, The (Dernier m\\u00e9tro, Le) (1980)\",\"IVRHM-BHd4A - Mobsters (1991)\",\"GJ5bTSq2ufQ - Bloody Mama (1970)\",\"LALkkZEEUAQ - Clan of the Cave Bear, The (1986)\",\"4qO9OD_NiUQ - Camera Obscura (2000)\"],\"y\":[1.0,1.0,1.0,1.0,0.918,0.815,0.804,0.804,0.804,0.804],\"type\":\"bar\"}],                        {\"template\":{\"data\":{\"histogram2dcontour\":[{\"type\":\"histogram2dcontour\",\"colorbar\":{\"outlinewidth\":0,\"ticks\":\"\"},\"colorscale\":[[0.0,\"#0d0887\"],[0.1111111111111111,\"#46039f\"],[0.2222222222222222,\"#7201a8\"],[0.3333333333333333,\"#9c179e\"],[0.4444444444444444,\"#bd3786\"],[0.5555555555555556,\"#d8576b\"],[0.6666666666666666,\"#ed7953\"],[0.7777777777777778,\"#fb9f3a\"],[0.8888888888888888,\"#fdca26\"],[1.0,\"#f0f921\"]]}],\"choropleth\":[{\"type\":\"choropleth\",\"colorbar\":{\"outlinewidth\":0,\"ticks\":\"\"}}],\"histogram2d\":[{\"type\":\"histogram2d\",\"colorbar\":{\"outlinewidth\":0,\"ticks\":\"\"},\"colorscale\":[[0.0,\"#0d0887\"],[0.1111111111111111,\"#46039f\"],[0.2222222222222222,\"#7201a8\"],[0.3333333333333333,\"#9c179e\"],[0.4444444444444444,\"#bd3786\"],[0.5555555555555556,\"#d8576b\"],[0.6666666666666666,\"#ed7953\"],[0.7777777777777778,\"#fb9f3a\"],[0.8888888888888888,\"#fdca26\"],[1.0,\"#f0f921\"]]}],\"heatmap\":[{\"type\":\"heatmap\",\"colorbar\":{\"outlinewidth\":0,\"ticks\":\"\"},\"colorscale\":[[0.0,\"#0d0887\"],[0.1111111111111111,\"#46039f\"],[0.2222222222222222,\"#7201a8\"],[0.3333333333333333,\"#9c179e\"],[0.4444444444444444,\"#bd3786\"],[0.5555555555555556,\"#d8576b\"],[0.6666666666666666,\"#ed7953\"],[0.7777777777777778,\"#fb9f3a\"],[0.8888888888888888,\"#fdca26\"],[1.0,\"#f0f921\"]]}],\"heatmapgl\":[{\"type\":\"heatmapgl\",\"colorbar\":{\"outlinewidth\":0,\"ticks\":\"\"},\"colorscale\":[[0.0,\"#0d0887\"],[0.1111111111111111,\"#46039f\"],[0.2222222222222222,\"#7201a8\"],[0.3333333333333333,\"#9c179e\"],[0.4444444444444444,\"#bd3786\"],[0.5555555555555556,\"#d8576b\"],[0.6666666666666666,\"#ed7953\"],[0.7777777777777778,\"#fb9f3a\"],[0.8888888888888888,\"#fdca26\"],[1.0,\"#f0f921\"]]}],\"contourcarpet\":[{\"type\":\"contourcarpet\",\"colorbar\":{\"outlinewidth\":0,\"ticks\":\"\"}}],\"contour\":[{\"type\":\"contour\",\"colorbar\":{\"outlinewidth\":0,\"ticks\":\"\"},\"colorscale\":[[0.0,\"#0d0887\"],[0.1111111111111111,\"#46039f\"],[0.2222222222222222,\"#7201a8\"],[0.3333333333333333,\"#9c179e\"],[0.4444444444444444,\"#bd3786\"],[0.5555555555555556,\"#d8576b\"],[0.6666666666666666,\"#ed7953\"],[0.7777777777777778,\"#fb9f3a\"],[0.8888888888888888,\"#fdca26\"],[1.0,\"#f0f921\"]]}],\"surface\":[{\"type\":\"surface\",\"colorbar\":{\"outlinewidth\":0,\"ticks\":\"\"},\"colorscale\":[[0.0,\"#0d0887\"],[0.1111111111111111,\"#46039f\"],[0.2222222222222222,\"#7201a8\"],[0.3333333333333333,\"#9c179e\"],[0.4444444444444444,\"#bd3786\"],[0.5555555555555556,\"#d8576b\"],[0.6666666666666666,\"#ed7953\"],[0.7777777777777778,\"#fb9f3a\"],[0.8888888888888888,\"#fdca26\"],[1.0,\"#f0f921\"]]}],\"mesh3d\":[{\"type\":\"mesh3d\",\"colorbar\":{\"outlinewidth\":0,\"ticks\":\"\"}}],\"scatter\":[{\"fillpattern\":{\"fillmode\":\"overlay\",\"size\":10,\"solidity\":0.2},\"type\":\"scatter\"}],\"parcoords\":[{\"type\":\"parcoords\",\"line\":{\"colorbar\":{\"outlinewidth\":0,\"ticks\":\"\"}}}],\"scatterpolargl\":[{\"type\":\"scatterpolargl\",\"marker\":{\"colorbar\":{\"outlinewidth\":0,\"ticks\":\"\"}}}],\"bar\":[{\"error_x\":{\"color\":\"#2a3f5f\"},\"error_y\":{\"color\":\"#2a3f5f\"},\"marker\":{\"line\":{\"color\":\"#E5ECF6\",\"width\":0.5},\"pattern\":{\"fillmode\":\"overlay\",\"size\":10,\"solidity\":0.2}},\"type\":\"bar\"}],\"scattergeo\":[{\"type\":\"scattergeo\",\"marker\":{\"colorbar\":{\"outlinewidth\":0,\"ticks\":\"\"}}}],\"scatterpolar\":[{\"type\":\"scatterpolar\",\"marker\":{\"colorbar\":{\"outlinewidth\":0,\"ticks\":\"\"}}}],\"histogram\":[{\"marker\":{\"pattern\":{\"fillmode\":\"overlay\",\"size\":10,\"solidity\":0.2}},\"type\":\"histogram\"}],\"scattergl\":[{\"type\":\"scattergl\",\"marker\":{\"colorbar\":{\"outlinewidth\":0,\"ticks\":\"\"}}}],\"scatter3d\":[{\"type\":\"scatter3d\",\"line\":{\"colorbar\":{\"outlinewidth\":0,\"ticks\":\"\"}},\"marker\":{\"colorbar\":{\"outlinewidth\":0,\"ticks\":\"\"}}}],\"scattermapbox\":[{\"type\":\"scattermapbox\",\"marker\":{\"colorbar\":{\"outlinewidth\":0,\"ticks\":\"\"}}}],\"scatterternary\":[{\"type\":\"scatterternary\",\"marker\":{\"colorbar\":{\"outlinewidth\":0,\"ticks\":\"\"}}}],\"scattercarpet\":[{\"type\":\"scattercarpet\",\"marker\":{\"colorbar\":{\"outlinewidth\":0,\"ticks\":\"\"}}}],\"carpet\":[{\"aaxis\":{\"endlinecolor\":\"#2a3f5f\",\"gridcolor\":\"white\",\"linecolor\":\"white\",\"minorgridcolor\":\"white\",\"startlinecolor\":\"#2a3f5f\"},\"baxis\":{\"endlinecolor\":\"#2a3f5f\",\"gridcolor\":\"white\",\"linecolor\":\"white\",\"minorgridcolor\":\"white\",\"startlinecolor\":\"#2a3f5f\"},\"type\":\"carpet\"}],\"table\":[{\"cells\":{\"fill\":{\"color\":\"#EBF0F8\"},\"line\":{\"color\":\"white\"}},\"header\":{\"fill\":{\"color\":\"#C8D4E3\"},\"line\":{\"color\":\"white\"}},\"type\":\"table\"}],\"barpolar\":[{\"marker\":{\"line\":{\"color\":\"#E5ECF6\",\"width\":0.5},\"pattern\":{\"fillmode\":\"overlay\",\"size\":10,\"solidity\":0.2}},\"type\":\"barpolar\"}],\"pie\":[{\"automargin\":true,\"type\":\"pie\"}]},\"layout\":{\"autotypenumbers\":\"strict\",\"colorway\":[\"#636efa\",\"#EF553B\",\"#00cc96\",\"#ab63fa\",\"#FFA15A\",\"#19d3f3\",\"#FF6692\",\"#B6E880\",\"#FF97FF\",\"#FECB52\"],\"font\":{\"color\":\"#2a3f5f\"},\"hovermode\":\"closest\",\"hoverlabel\":{\"align\":\"left\"},\"paper_bgcolor\":\"white\",\"plot_bgcolor\":\"#E5ECF6\",\"polar\":{\"bgcolor\":\"#E5ECF6\",\"angularaxis\":{\"gridcolor\":\"white\",\"linecolor\":\"white\",\"ticks\":\"\"},\"radialaxis\":{\"gridcolor\":\"white\",\"linecolor\":\"white\",\"ticks\":\"\"}},\"ternary\":{\"bgcolor\":\"#E5ECF6\",\"aaxis\":{\"gridcolor\":\"white\",\"linecolor\":\"white\",\"ticks\":\"\"},\"baxis\":{\"gridcolor\":\"white\",\"linecolor\":\"white\",\"ticks\":\"\"},\"caxis\":{\"gridcolor\":\"white\",\"linecolor\":\"white\",\"ticks\":\"\"}},\"coloraxis\":{\"colorbar\":{\"outlinewidth\":0,\"ticks\":\"\"}},\"colorscale\":{\"sequential\":[[0.0,\"#0d0887\"],[0.1111111111111111,\"#46039f\"],[0.2222222222222222,\"#7201a8\"],[0.3333333333333333,\"#9c179e\"],[0.4444444444444444,\"#bd3786\"],[0.5555555555555556,\"#d8576b\"],[0.6666666666666666,\"#ed7953\"],[0.7777777777777778,\"#fb9f3a\"],[0.8888888888888888,\"#fdca26\"],[1.0,\"#f0f921\"]],\"sequentialminus\":[[0.0,\"#0d0887\"],[0.1111111111111111,\"#46039f\"],[0.2222222222222222,\"#7201a8\"],[0.3333333333333333,\"#9c179e\"],[0.4444444444444444,\"#bd3786\"],[0.5555555555555556,\"#d8576b\"],[0.6666666666666666,\"#ed7953\"],[0.7777777777777778,\"#fb9f3a\"],[0.8888888888888888,\"#fdca26\"],[1.0,\"#f0f921\"]],\"diverging\":[[0,\"#8e0152\"],[0.1,\"#c51b7d\"],[0.2,\"#de77ae\"],[0.3,\"#f1b6da\"],[0.4,\"#fde0ef\"],[0.5,\"#f7f7f7\"],[0.6,\"#e6f5d0\"],[0.7,\"#b8e186\"],[0.8,\"#7fbc41\"],[0.9,\"#4d9221\"],[1,\"#276419\"]]},\"xaxis\":{\"gridcolor\":\"white\",\"linecolor\":\"white\",\"ticks\":\"\",\"title\":{\"standoff\":15},\"zerolinecolor\":\"white\",\"automargin\":true,\"zerolinewidth\":2},\"yaxis\":{\"gridcolor\":\"white\",\"linecolor\":\"white\",\"ticks\":\"\",\"title\":{\"standoff\":15},\"zerolinecolor\":\"white\",\"automargin\":true,\"zerolinewidth\":2},\"scene\":{\"xaxis\":{\"backgroundcolor\":\"#E5ECF6\",\"gridcolor\":\"white\",\"linecolor\":\"white\",\"showbackground\":true,\"ticks\":\"\",\"zerolinecolor\":\"white\",\"gridwidth\":2},\"yaxis\":{\"backgroundcolor\":\"#E5ECF6\",\"gridcolor\":\"white\",\"linecolor\":\"white\",\"showbackground\":true,\"ticks\":\"\",\"zerolinecolor\":\"white\",\"gridwidth\":2},\"zaxis\":{\"backgroundcolor\":\"#E5ECF6\",\"gridcolor\":\"white\",\"linecolor\":\"white\",\"showbackground\":true,\"ticks\":\"\",\"zerolinecolor\":\"white\",\"gridwidth\":2}},\"shapedefaults\":{\"line\":{\"color\":\"#2a3f5f\"}},\"annotationdefaults\":{\"arrowcolor\":\"#2a3f5f\",\"arrowhead\":0,\"arrowwidth\":1},\"geo\":{\"bgcolor\":\"white\",\"landcolor\":\"#E5ECF6\",\"subunitcolor\":\"white\",\"showland\":true,\"showlakes\":true,\"lakecolor\":\"white\"},\"title\":{\"x\":0.05},\"mapbox\":{\"style\":\"light\"}}},\"title\":{\"text\":\"Top-10 Videos with Highest Positive Sentiment Scores\"},\"xaxis\":{\"title\":{\"text\":\"Video ID - Title\"}},\"yaxis\":{\"title\":{\"text\":\"Positive Sentiment Score\"}}},                        {\"responsive\": true}                    ).then(function(){\n",
       "                            \n",
       "var gd = document.getElementById('37c82777-49ae-49b6-a045-ab4396a5e1cf');\n",
       "var x = new MutationObserver(function (mutations, observer) {{\n",
       "        var display = window.getComputedStyle(gd).display;\n",
       "        if (!display || display === 'none') {{\n",
       "            console.log([gd, 'removed!']);\n",
       "            Plotly.purge(gd);\n",
       "            observer.disconnect();\n",
       "        }}\n",
       "}});\n",
       "\n",
       "// Listen for the removal of the full notebook cells\n",
       "var notebookContainer = gd.closest('#notebook-container');\n",
       "if (notebookContainer) {{\n",
       "    x.observe(notebookContainer, {childList: true});\n",
       "}}\n",
       "\n",
       "// Listen for the clearing of the current output cell\n",
       "var outputEl = gd.closest('.output');\n",
       "if (outputEl) {{\n",
       "    x.observe(outputEl, {childList: true});\n",
       "}}\n",
       "\n",
       "                        })                };                });            </script>        </div>"
      ]
     },
     "metadata": {},
     "output_type": "display_data"
    }
   ],
   "source": [
    "import pandas as pd\n",
    "import plotly.graph_objects as go\n",
    "\n",
    "# Sort the aggregated sentiment DataFrame by 'pos' column in descending order\n",
    "top_10_positive_sentiment = aggregated_sentiment.sort_values(by='pos', ascending=False).head(10)\n",
    "\n",
    "# Create a bar plot\n",
    "fig = go.Figure([go.Bar(x=top_10_positive_sentiment['video_id'] + ' - ' + top_10_positive_sentiment['title'], \n",
    "                        y=top_10_positive_sentiment['pos'])])\n",
    "\n",
    "# Update the layout\n",
    "fig.update_layout(title='Top-10 Videos with Highest Positive Sentiment Scores',\n",
    "                  xaxis_title='Video ID - Title',\n",
    "                  yaxis_title='Positive Sentiment Score')\n",
    "\n",
    "# Show the plot\n",
    "fig.show()\n"
   ]
  },
  {
   "cell_type": "code",
   "execution_count": null,
   "id": "e338f578-befb-409f-b79b-a97602406fe4",
   "metadata": {},
   "outputs": [],
   "source": []
  }
 ],
 "metadata": {
  "kernelspec": {
   "display_name": "Python 3 (ipykernel)",
   "language": "python",
   "name": "python3"
  },
  "language_info": {
   "codemirror_mode": {
    "name": "ipython",
    "version": 3
   },
   "file_extension": ".py",
   "mimetype": "text/x-python",
   "name": "python",
   "nbconvert_exporter": "python",
   "pygments_lexer": "ipython3",
   "version": "3.11.7"
  }
 },
 "nbformat": 4,
 "nbformat_minor": 5
}
